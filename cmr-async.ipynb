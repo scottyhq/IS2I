{
 "cells": [
  {
   "cell_type": "markdown",
   "id": "a77cc905-ab85-483c-b18d-98de012d2f8c",
   "metadata": {},
   "source": [
    "# Goal: given bbox and time construct ATL03 database (footprint + timestamp)\n",
    "\n",
    "based on https://git.earthdata.nasa.gov/projects/LPDUR/repos/cmr-api---hls-bulk-query/browse\n",
    "\n",
    "Steps:\n",
    "\n",
    "1. do it serial\n",
    "2. use an async function"
   ]
  },
  {
   "cell_type": "code",
   "execution_count": 1,
   "id": "867c5e3e-c72d-46c7-af51-b1129ec87ad9",
   "metadata": {
    "tags": []
   },
   "outputs": [],
   "source": [
    "import requests\n",
    "import math\n",
    "import aiohttp\n",
    "import asyncio\n",
    "import time\n",
    "\n",
    "import pandas as pd\n",
    "import shapely\n",
    "import geopandas as gpd"
   ]
  },
  {
   "cell_type": "code",
   "execution_count": 2,
   "id": "9b1d73e6-162a-4b66-a3de-07349b577ec6",
   "metadata": {
    "tags": []
   },
   "outputs": [
    {
     "name": "stdout",
     "output_type": "stream",
     "text": [
      "https://cmr.earthdata.nasa.gov/search/granules\n"
     ]
    }
   ],
   "source": [
    "CMR_OPS = 'https://cmr.earthdata.nasa.gov/search' # CMR API Endpoint\n",
    "url = f'{CMR_OPS}/{\"granules\"}'\n",
    "print(url)"
   ]
  },
  {
   "cell_type": "markdown",
   "id": "e58d01a1-a9ba-49ef-8c09-1a261f2a8730",
   "metadata": {
    "user_expressions": []
   },
   "source": [
    "## Smallish testcase"
   ]
  },
  {
   "cell_type": "code",
   "execution_count": 18,
   "id": "eba7af12-bcd0-47bd-b2bf-f076b2ee4fb8",
   "metadata": {
    "tags": []
   },
   "outputs": [],
   "source": [
    "# https://github.com/Element84/cmr-stac-api-proxy/issues/30\n",
    "collections = ['C2120512202-NSIDC_ECS'] # Version 5\n",
    "collections = ['C2559919423-NSIDC_ECS'] # Version 6\n",
    "\n",
    "datetime_range = '2021-10-17T00:00:00Z,2021-10-19T23:59:59Z'\n",
    "bbox = '-170,60,-140,70' # most of alaska\n",
    "page_size = 2000"
   ]
  },
  {
   "cell_type": "code",
   "execution_count": 19,
   "id": "ce722c5a-11b9-4b43-879c-d909738ef553",
   "metadata": {
    "tags": []
   },
   "outputs": [
    {
     "name": "stdout",
     "output_type": "stream",
     "text": [
      "200\n",
      "CPU times: user 15.5 ms, sys: 4.66 ms, total: 20.1 ms\n",
      "Wall time: 571 ms\n"
     ]
    }
   ],
   "source": [
    "%%time\n",
    "\n",
    "# All time: 5.44s, 4039 granules\n",
    "# 2021-10-17 to 19: Wall time: 1.8 s, 9 granules, 300-640 ms today, seems quite variable...\n",
    "\n",
    "response = requests.get(url, \n",
    "                        params={\n",
    "                            'concept_id': collections,\n",
    "                            'temporal': datetime_range,\n",
    "                            'bounding_box': bbox,\n",
    "                            'page_size': page_size,\n",
    "                            },\n",
    "                        headers={\n",
    "                            'Accept': 'application/json'\n",
    "                            }\n",
    "                       )\n",
    "print(response.status_code)"
   ]
  },
  {
   "cell_type": "code",
   "execution_count": 20,
   "id": "8ef5c73b-73e6-44a7-9609-a9045dbd467f",
   "metadata": {
    "tags": []
   },
   "outputs": [
    {
     "name": "stdout",
     "output_type": "stream",
     "text": [
      "8\n"
     ]
    }
   ],
   "source": [
    "print(response.headers['CMR-Hits']) # Resulting quantity of granules/items."
   ]
  },
  {
   "cell_type": "code",
   "execution_count": 21,
   "id": "e6a928de-3ffb-4579-9e28-2c899513f2b3",
   "metadata": {
    "tags": []
   },
   "outputs": [
    {
     "name": "stdout",
     "output_type": "stream",
     "text": [
      "CPU times: user 761 µs, sys: 0 ns, total: 761 µs\n",
      "Wall time: 767 µs\n"
     ]
    }
   ],
   "source": [
    "%%time\n",
    "# Actually get JSON per granule (1st 2000 hits)\n",
    "granules = response.json()['feed']['entry']"
   ]
  },
  {
   "cell_type": "code",
   "execution_count": 22,
   "id": "103c3ac3-b081-478f-ba64-fac23df0cff8",
   "metadata": {
    "tags": []
   },
   "outputs": [
    {
     "data": {
      "text/html": [
       "<div>\n",
       "<style scoped>\n",
       "    .dataframe tbody tr th:only-of-type {\n",
       "        vertical-align: middle;\n",
       "    }\n",
       "\n",
       "    .dataframe tbody tr th {\n",
       "        vertical-align: top;\n",
       "    }\n",
       "\n",
       "    .dataframe thead th {\n",
       "        text-align: right;\n",
       "    }\n",
       "</style>\n",
       "<table border=\"1\" class=\"dataframe\">\n",
       "  <thead>\n",
       "    <tr style=\"text-align: right;\">\n",
       "      <th></th>\n",
       "      <th>producer_granule_id</th>\n",
       "      <th>time_start</th>\n",
       "      <th>time_end</th>\n",
       "      <th>polygons</th>\n",
       "    </tr>\n",
       "  </thead>\n",
       "  <tbody>\n",
       "    <tr>\n",
       "      <th>0</th>\n",
       "      <td>ATL03_20211017095408_03811305_006_01.h5</td>\n",
       "      <td>2021-10-17T09:54:08.705Z</td>\n",
       "      <td>2021-10-17T09:59:33.831Z</td>\n",
       "      <td>[[80.02712 -150.26295 80.05118 -150.89772 79.4...</td>\n",
       "    </tr>\n",
       "    <tr>\n",
       "      <th>1</th>\n",
       "      <td>ATL03_20211017204335_03881303_006_01.h5</td>\n",
       "      <td>2021-10-17T20:43:36.058Z</td>\n",
       "      <td>2021-10-17T20:49:01.491Z</td>\n",
       "      <td>[[80.05093 -157.16028 80.02701 -157.79545 79.6...</td>\n",
       "    </tr>\n",
       "    <tr>\n",
       "      <th>2</th>\n",
       "      <td>ATL03_20211018092829_03961305_006_01.h5</td>\n",
       "      <td>2021-10-18T09:28:29.226Z</td>\n",
       "      <td>2021-10-18T09:33:54.653Z</td>\n",
       "      <td>[[80.02743 -144.55886 80.05128 -145.1973 79.47...</td>\n",
       "    </tr>\n",
       "    <tr>\n",
       "      <th>3</th>\n",
       "      <td>ATL03_20211018201756_04031303_006_01.h5</td>\n",
       "      <td>2021-10-18T20:17:56.827Z</td>\n",
       "      <td>2021-10-18T20:23:22.267Z</td>\n",
       "      <td>[[80.05083 -151.44547 80.02695 -152.08076 79.6...</td>\n",
       "    </tr>\n",
       "    <tr>\n",
       "      <th>4</th>\n",
       "      <td>ATL03_20211018215214_04041303_006_01.h5</td>\n",
       "      <td>2021-10-18T21:52:14.265Z</td>\n",
       "      <td>2021-10-18T21:57:39.707Z</td>\n",
       "      <td>[[80.0508 -175.07255 80.0269 -175.7078 79.5973...</td>\n",
       "    </tr>\n",
       "  </tbody>\n",
       "</table>\n",
       "</div>"
      ],
      "text/plain": [
       "                       producer_granule_id                time_start  \\\n",
       "0  ATL03_20211017095408_03811305_006_01.h5  2021-10-17T09:54:08.705Z   \n",
       "1  ATL03_20211017204335_03881303_006_01.h5  2021-10-17T20:43:36.058Z   \n",
       "2  ATL03_20211018092829_03961305_006_01.h5  2021-10-18T09:28:29.226Z   \n",
       "3  ATL03_20211018201756_04031303_006_01.h5  2021-10-18T20:17:56.827Z   \n",
       "4  ATL03_20211018215214_04041303_006_01.h5  2021-10-18T21:52:14.265Z   \n",
       "\n",
       "                   time_end                                           polygons  \n",
       "0  2021-10-17T09:59:33.831Z  [[80.02712 -150.26295 80.05118 -150.89772 79.4...  \n",
       "1  2021-10-17T20:49:01.491Z  [[80.05093 -157.16028 80.02701 -157.79545 79.6...  \n",
       "2  2021-10-18T09:33:54.653Z  [[80.02743 -144.55886 80.05128 -145.1973 79.47...  \n",
       "3  2021-10-18T20:23:22.267Z  [[80.05083 -151.44547 80.02695 -152.08076 79.6...  \n",
       "4  2021-10-18T21:57:39.707Z  [[80.0508 -175.07255 80.0269 -175.7078 79.5973...  "
      ]
     },
     "execution_count": 22,
     "metadata": {},
     "output_type": "execute_result"
    }
   ],
   "source": [
    "# Just create a dataframe with the basics\n",
    "keys = ['producer_granule_id', 'time_start', 'time_end', 'polygons'] #, ?link {key: old_dict[key] for key in your_keys}\n",
    "\n",
    "# nested list comprehension to filter dictionaries\n",
    "df = pd.DataFrame([{key: x[key] for key in keys} for x in granules])\n",
    "df.head()"
   ]
  },
  {
   "cell_type": "code",
   "execution_count": 23,
   "id": "238690af-4e85-4fba-8a09-7f357bda8b12",
   "metadata": {
    "tags": []
   },
   "outputs": [
    {
     "data": {
      "text/html": [
       "<div>\n",
       "<style scoped>\n",
       "    .dataframe tbody tr th:only-of-type {\n",
       "        vertical-align: middle;\n",
       "    }\n",
       "\n",
       "    .dataframe tbody tr th {\n",
       "        vertical-align: top;\n",
       "    }\n",
       "\n",
       "    .dataframe thead th {\n",
       "        text-align: right;\n",
       "    }\n",
       "</style>\n",
       "<table border=\"1\" class=\"dataframe\">\n",
       "  <thead>\n",
       "    <tr style=\"text-align: right;\">\n",
       "      <th></th>\n",
       "      <th>producer_granule_id</th>\n",
       "      <th>time_start</th>\n",
       "      <th>time_end</th>\n",
       "      <th>polygons</th>\n",
       "      <th>datetime</th>\n",
       "    </tr>\n",
       "  </thead>\n",
       "  <tbody>\n",
       "    <tr>\n",
       "      <th>0</th>\n",
       "      <td>ATL03_20211017095408_03811305_006_01.h5</td>\n",
       "      <td>2021-10-17 09:54:08.705</td>\n",
       "      <td>2021-10-17 09:59:33.831</td>\n",
       "      <td>[[80.02712 -150.26295 80.05118 -150.89772 79.4...</td>\n",
       "      <td>2021-10-17 09:56:51.268000</td>\n",
       "    </tr>\n",
       "    <tr>\n",
       "      <th>1</th>\n",
       "      <td>ATL03_20211017204335_03881303_006_01.h5</td>\n",
       "      <td>2021-10-17 20:43:36.058</td>\n",
       "      <td>2021-10-17 20:49:01.491</td>\n",
       "      <td>[[80.05093 -157.16028 80.02701 -157.79545 79.6...</td>\n",
       "      <td>2021-10-17 20:46:18.774500</td>\n",
       "    </tr>\n",
       "    <tr>\n",
       "      <th>2</th>\n",
       "      <td>ATL03_20211018092829_03961305_006_01.h5</td>\n",
       "      <td>2021-10-18 09:28:29.226</td>\n",
       "      <td>2021-10-18 09:33:54.653</td>\n",
       "      <td>[[80.02743 -144.55886 80.05128 -145.1973 79.47...</td>\n",
       "      <td>2021-10-18 09:31:11.939500</td>\n",
       "    </tr>\n",
       "    <tr>\n",
       "      <th>3</th>\n",
       "      <td>ATL03_20211018201756_04031303_006_01.h5</td>\n",
       "      <td>2021-10-18 20:17:56.827</td>\n",
       "      <td>2021-10-18 20:23:22.267</td>\n",
       "      <td>[[80.05083 -151.44547 80.02695 -152.08076 79.6...</td>\n",
       "      <td>2021-10-18 20:20:39.547000</td>\n",
       "    </tr>\n",
       "    <tr>\n",
       "      <th>4</th>\n",
       "      <td>ATL03_20211018215214_04041303_006_01.h5</td>\n",
       "      <td>2021-10-18 21:52:14.265</td>\n",
       "      <td>2021-10-18 21:57:39.707</td>\n",
       "      <td>[[80.0508 -175.07255 80.0269 -175.7078 79.5973...</td>\n",
       "      <td>2021-10-18 21:54:56.986000</td>\n",
       "    </tr>\n",
       "  </tbody>\n",
       "</table>\n",
       "</div>"
      ],
      "text/plain": [
       "                       producer_granule_id              time_start  \\\n",
       "0  ATL03_20211017095408_03811305_006_01.h5 2021-10-17 09:54:08.705   \n",
       "1  ATL03_20211017204335_03881303_006_01.h5 2021-10-17 20:43:36.058   \n",
       "2  ATL03_20211018092829_03961305_006_01.h5 2021-10-18 09:28:29.226   \n",
       "3  ATL03_20211018201756_04031303_006_01.h5 2021-10-18 20:17:56.827   \n",
       "4  ATL03_20211018215214_04041303_006_01.h5 2021-10-18 21:52:14.265   \n",
       "\n",
       "                 time_end                                           polygons  \\\n",
       "0 2021-10-17 09:59:33.831  [[80.02712 -150.26295 80.05118 -150.89772 79.4...   \n",
       "1 2021-10-17 20:49:01.491  [[80.05093 -157.16028 80.02701 -157.79545 79.6...   \n",
       "2 2021-10-18 09:33:54.653  [[80.02743 -144.55886 80.05128 -145.1973 79.47...   \n",
       "3 2021-10-18 20:23:22.267  [[80.05083 -151.44547 80.02695 -152.08076 79.6...   \n",
       "4 2021-10-18 21:57:39.707  [[80.0508 -175.07255 80.0269 -175.7078 79.5973...   \n",
       "\n",
       "                    datetime  \n",
       "0 2021-10-17 09:56:51.268000  \n",
       "1 2021-10-17 20:46:18.774500  \n",
       "2 2021-10-18 09:31:11.939500  \n",
       "3 2021-10-18 20:20:39.547000  \n",
       "4 2021-10-18 21:54:56.986000  "
      ]
     },
     "execution_count": 23,
     "metadata": {},
     "output_type": "execute_result"
    }
   ],
   "source": [
    "df['time_start'] = pd.to_datetime(df.time_start).dt.tz_localize(None)\n",
    "df['time_end'] = pd.to_datetime(df.time_end).dt.tz_localize(None)\n",
    "df['datetime'] = df.time_start + (df.time_end - df.time_start)/2\n",
    "df.head()"
   ]
  },
  {
   "cell_type": "code",
   "execution_count": 24,
   "id": "c790ecff-2ca1-422c-9573-e84177cbf1f0",
   "metadata": {
    "tags": []
   },
   "outputs": [],
   "source": [
    "def polygons2shapely(polygons):\n",
    "    ''' convert CMR string to shapely polygon for geopandas '''\n",
    "    coordlist = polygons[0][0].split() #list of lists (assume just one though)\n",
    "    lats = [float(x) for x in coordlist[::2]]\n",
    "    lons = [float(x) for x in coordlist[1::2]]\n",
    "    poly = shapely.geometry.Polygon(zip(lons,lats))\n",
    "    # Proper orientation to denote exterior boundary (poly.exterior.is_ccw)\n",
    "    poly = shapely.geometry.polygon.orient(poly)\n",
    "    return poly"
   ]
  },
  {
   "cell_type": "code",
   "execution_count": 25,
   "id": "b6a41aa0-f9e8-4b92-af6f-1b0a8d3b1fad",
   "metadata": {
    "tags": []
   },
   "outputs": [],
   "source": [
    "poly = polygons2shapely(df.polygons.values[0])"
   ]
  },
  {
   "cell_type": "code",
   "execution_count": 26,
   "id": "8ef56eab-e8a5-43be-9be6-933bc0fb3fd2",
   "metadata": {
    "tags": []
   },
   "outputs": [
    {
     "data": {
      "text/plain": [
       "True"
      ]
     },
     "execution_count": 26,
     "metadata": {},
     "output_type": "execute_result"
    }
   ],
   "source": [
    "poly.exterior.is_ccw"
   ]
  },
  {
   "cell_type": "code",
   "execution_count": 27,
   "id": "519cbe02-402b-4146-8150-59ca13fab581",
   "metadata": {
    "tags": []
   },
   "outputs": [],
   "source": [
    "df['geometry'] = df.polygons.apply(lambda x: polygons2shapely(x))"
   ]
  },
  {
   "cell_type": "code",
   "execution_count": 28,
   "id": "bd9de037-2769-4501-9ebd-778c9b473029",
   "metadata": {
    "tags": []
   },
   "outputs": [
    {
     "data": {
      "text/html": [
       "<div>\n",
       "<style scoped>\n",
       "    .dataframe tbody tr th:only-of-type {\n",
       "        vertical-align: middle;\n",
       "    }\n",
       "\n",
       "    .dataframe tbody tr th {\n",
       "        vertical-align: top;\n",
       "    }\n",
       "\n",
       "    .dataframe thead th {\n",
       "        text-align: right;\n",
       "    }\n",
       "</style>\n",
       "<table border=\"1\" class=\"dataframe\">\n",
       "  <thead>\n",
       "    <tr style=\"text-align: right;\">\n",
       "      <th></th>\n",
       "      <th>producer_granule_id</th>\n",
       "      <th>time_start</th>\n",
       "      <th>time_end</th>\n",
       "      <th>polygons</th>\n",
       "      <th>datetime</th>\n",
       "      <th>geometry</th>\n",
       "    </tr>\n",
       "  </thead>\n",
       "  <tbody>\n",
       "    <tr>\n",
       "      <th>0</th>\n",
       "      <td>ATL03_20211017095408_03811305_006_01.h5</td>\n",
       "      <td>2021-10-17 09:54:08.705</td>\n",
       "      <td>2021-10-17 09:59:33.831</td>\n",
       "      <td>[[80.02712 -150.26295 80.05118 -150.89772 79.4...</td>\n",
       "      <td>2021-10-17 09:56:51.268000</td>\n",
       "      <td>POLYGON ((-150.26295 80.02712, -150.89772 80.0...</td>\n",
       "    </tr>\n",
       "    <tr>\n",
       "      <th>1</th>\n",
       "      <td>ATL03_20211017204335_03881303_006_01.h5</td>\n",
       "      <td>2021-10-17 20:43:36.058</td>\n",
       "      <td>2021-10-17 20:49:01.491</td>\n",
       "      <td>[[80.05093 -157.16028 80.02701 -157.79545 79.6...</td>\n",
       "      <td>2021-10-17 20:46:18.774500</td>\n",
       "      <td>POLYGON ((-157.16028 80.05093, -157.79545 80.0...</td>\n",
       "    </tr>\n",
       "    <tr>\n",
       "      <th>2</th>\n",
       "      <td>ATL03_20211018092829_03961305_006_01.h5</td>\n",
       "      <td>2021-10-18 09:28:29.226</td>\n",
       "      <td>2021-10-18 09:33:54.653</td>\n",
       "      <td>[[80.02743 -144.55886 80.05128 -145.1973 79.47...</td>\n",
       "      <td>2021-10-18 09:31:11.939500</td>\n",
       "      <td>POLYGON ((-144.55886 80.02743, -145.19730 80.0...</td>\n",
       "    </tr>\n",
       "    <tr>\n",
       "      <th>3</th>\n",
       "      <td>ATL03_20211018201756_04031303_006_01.h5</td>\n",
       "      <td>2021-10-18 20:17:56.827</td>\n",
       "      <td>2021-10-18 20:23:22.267</td>\n",
       "      <td>[[80.05083 -151.44547 80.02695 -152.08076 79.6...</td>\n",
       "      <td>2021-10-18 20:20:39.547000</td>\n",
       "      <td>POLYGON ((-151.44547 80.05083, -152.08076 80.0...</td>\n",
       "    </tr>\n",
       "    <tr>\n",
       "      <th>4</th>\n",
       "      <td>ATL03_20211018215214_04041303_006_01.h5</td>\n",
       "      <td>2021-10-18 21:52:14.265</td>\n",
       "      <td>2021-10-18 21:57:39.707</td>\n",
       "      <td>[[80.0508 -175.07255 80.0269 -175.7078 79.5973...</td>\n",
       "      <td>2021-10-18 21:54:56.986000</td>\n",
       "      <td>POLYGON ((-175.07255 80.05080, -175.70780 80.0...</td>\n",
       "    </tr>\n",
       "  </tbody>\n",
       "</table>\n",
       "</div>"
      ],
      "text/plain": [
       "                       producer_granule_id              time_start  \\\n",
       "0  ATL03_20211017095408_03811305_006_01.h5 2021-10-17 09:54:08.705   \n",
       "1  ATL03_20211017204335_03881303_006_01.h5 2021-10-17 20:43:36.058   \n",
       "2  ATL03_20211018092829_03961305_006_01.h5 2021-10-18 09:28:29.226   \n",
       "3  ATL03_20211018201756_04031303_006_01.h5 2021-10-18 20:17:56.827   \n",
       "4  ATL03_20211018215214_04041303_006_01.h5 2021-10-18 21:52:14.265   \n",
       "\n",
       "                 time_end                                           polygons  \\\n",
       "0 2021-10-17 09:59:33.831  [[80.02712 -150.26295 80.05118 -150.89772 79.4...   \n",
       "1 2021-10-17 20:49:01.491  [[80.05093 -157.16028 80.02701 -157.79545 79.6...   \n",
       "2 2021-10-18 09:33:54.653  [[80.02743 -144.55886 80.05128 -145.1973 79.47...   \n",
       "3 2021-10-18 20:23:22.267  [[80.05083 -151.44547 80.02695 -152.08076 79.6...   \n",
       "4 2021-10-18 21:57:39.707  [[80.0508 -175.07255 80.0269 -175.7078 79.5973...   \n",
       "\n",
       "                    datetime  \\\n",
       "0 2021-10-17 09:56:51.268000   \n",
       "1 2021-10-17 20:46:18.774500   \n",
       "2 2021-10-18 09:31:11.939500   \n",
       "3 2021-10-18 20:20:39.547000   \n",
       "4 2021-10-18 21:54:56.986000   \n",
       "\n",
       "                                            geometry  \n",
       "0  POLYGON ((-150.26295 80.02712, -150.89772 80.0...  \n",
       "1  POLYGON ((-157.16028 80.05093, -157.79545 80.0...  \n",
       "2  POLYGON ((-144.55886 80.02743, -145.19730 80.0...  \n",
       "3  POLYGON ((-151.44547 80.05083, -152.08076 80.0...  \n",
       "4  POLYGON ((-175.07255 80.05080, -175.70780 80.0...  "
      ]
     },
     "execution_count": 28,
     "metadata": {},
     "output_type": "execute_result"
    }
   ],
   "source": [
    "gf = gpd.GeoDataFrame(df, crs='EPSG:4326')\n",
    "gf.head()"
   ]
  },
  {
   "cell_type": "code",
   "execution_count": 29,
   "id": "66a29a16-8d4b-4f2a-9ae4-d914510d9f9f",
   "metadata": {
    "tags": []
   },
   "outputs": [
    {
     "data": {
      "text/plain": [
       "<AxesSubplot: >"
      ]
     },
     "execution_count": 29,
     "metadata": {},
     "output_type": "execute_result"
    },
    {
     "data": {
      "image/png": "[encoded data removed]",
      "text/plain": [
       "<Figure size 640x480 with 1 Axes>"
      ]
     },
     "metadata": {},
     "output_type": "display_data"
    }
   ],
   "source": [
    "gf.plot()"
   ]
  },
  {
   "cell_type": "markdown",
   "id": "ca467aff-e2fb-485e-9ce8-f5c423454475",
   "metadata": {
    "user_expressions": []
   },
   "source": [
    "## Most of alaska "
   ]
  },
  {
   "cell_type": "code",
   "execution_count": 32,
   "id": "ba7ec0c6-22d2-4b43-9140-7c4c42b3e3d6",
   "metadata": {
    "tags": []
   },
   "outputs": [],
   "source": [
    "params={\n",
    "    #'concept_id': ['C2120512202-NSIDC_ECS'], # Version 5\n",
    "    'concept_id': ['C2559919423-NSIDC_ECS'], # Version 6\n",
    "    #'temporal': '2021-10-17T00:00:00Z,2021-10-19T23:59:59Z',\n",
    "    'bounding_box': '-170,60,-140,70',\n",
    "    'page_size': 2000,\n",
    "    }"
   ]
  },
  {
   "cell_type": "code",
   "execution_count": 33,
   "id": "8766702a-322a-4d2f-a0c8-1705ff36b805",
   "metadata": {
    "tags": []
   },
   "outputs": [],
   "source": [
    "def get_page_total(params):\n",
    "    hits = requests.get(url, \n",
    "                        params=params,\n",
    "                        headers={\n",
    "                            'Accept': 'application/json'\n",
    "                            }\n",
    "                       ).headers['CMR-Hits']\n",
    "    \n",
    "    print(f'Granules= {hits}') \n",
    "    pages = math.ceil(int(hits)/params['page_size'])\n",
    "    print(f'Pages= {pages}')\n",
    "    \n",
    "    return pages"
   ]
  },
  {
   "cell_type": "code",
   "execution_count": 34,
   "id": "a747e82c-d895-483a-9c99-fbff20a478c6",
   "metadata": {
    "tags": []
   },
   "outputs": [
    {
     "name": "stdout",
     "output_type": "stream",
     "text": [
      "Granules= 4490\n",
      "Pages= 3\n",
      "CPU times: user 79.7 ms, sys: 11.3 ms, total: 91 ms\n",
      "Wall time: 2.68 s\n"
     ]
    },
    {
     "data": {
      "text/plain": [
       "3"
      ]
     },
     "execution_count": 34,
     "metadata": {},
     "output_type": "execute_result"
    }
   ],
   "source": [
    "%%time\n",
    "get_page_total(params)"
   ]
  },
  {
   "cell_type": "code",
   "execution_count": 35,
   "id": "da139944-553d-4e22-9374-8fa299b7eb8e",
   "metadata": {
    "tags": []
   },
   "outputs": [],
   "source": [
    "def get_cmr_granules(params):\n",
    "    response = requests.get(\"https://cmr.earthdata.nasa.gov/search/granules\", \n",
    "                        params=params,\n",
    "                        headers={\n",
    "                            'Accept': 'application/json'\n",
    "                            }\n",
    "                       )\n",
    "    \n",
    "    \n",
    "    granules = response.json()['feed']['entry']\n",
    "    keys = ['producer_granule_id', 'time_start', 'time_end', 'polygons']\n",
    "    df = pd.DataFrame([{key: x[key] for key in keys} for x in granules])\n",
    "    return df"
   ]
  },
  {
   "cell_type": "code",
   "execution_count": 36,
   "id": "ca6d72b1-52f6-4e9f-ab11-f0ec5041d4c0",
   "metadata": {
    "tags": []
   },
   "outputs": [
    {
     "name": "stdout",
     "output_type": "stream",
     "text": [
      "CPU times: user 235 ms, sys: 61 ms, total: 296 ms\n",
      "Wall time: 3.42 s\n"
     ]
    },
    {
     "data": {
      "text/html": [
       "<div>\n",
       "<style scoped>\n",
       "    .dataframe tbody tr th:only-of-type {\n",
       "        vertical-align: middle;\n",
       "    }\n",
       "\n",
       "    .dataframe tbody tr th {\n",
       "        vertical-align: top;\n",
       "    }\n",
       "\n",
       "    .dataframe thead th {\n",
       "        text-align: right;\n",
       "    }\n",
       "</style>\n",
       "<table border=\"1\" class=\"dataframe\">\n",
       "  <thead>\n",
       "    <tr style=\"text-align: right;\">\n",
       "      <th></th>\n",
       "      <th>producer_granule_id</th>\n",
       "      <th>time_start</th>\n",
       "      <th>time_end</th>\n",
       "      <th>polygons</th>\n",
       "    </tr>\n",
       "  </thead>\n",
       "  <tbody>\n",
       "    <tr>\n",
       "      <th>0</th>\n",
       "      <td>ATL03_20181014015337_02360103_006_02.h5</td>\n",
       "      <td>2018-10-14T01:53:36.912Z</td>\n",
       "      <td>2018-10-14T01:59:02.315Z</td>\n",
       "      <td>[[80.05247 -166.98121 80.02874 -167.61386 79.5...</td>\n",
       "    </tr>\n",
       "    <tr>\n",
       "      <th>1</th>\n",
       "      <td>ATL03_20181014130413_02430105_006_02.h5</td>\n",
       "      <td>2018-10-14T13:04:12.567Z</td>\n",
       "      <td>2018-10-14T13:09:37.946Z</td>\n",
       "      <td>[[80.02773 -130.816 80.05141 -131.44724 79.599...</td>\n",
       "    </tr>\n",
       "    <tr>\n",
       "      <th>2</th>\n",
       "      <td>ATL03_20181014143830_02440105_006_02.h5</td>\n",
       "      <td>2018-10-14T14:38:29.879Z</td>\n",
       "      <td>2018-10-14T14:43:55.296Z</td>\n",
       "      <td>[[80.02762 -154.42548 80.05132 -155.0567 79.58...</td>\n",
       "    </tr>\n",
       "  </tbody>\n",
       "</table>\n",
       "</div>"
      ],
      "text/plain": [
       "                       producer_granule_id                time_start  \\\n",
       "0  ATL03_20181014015337_02360103_006_02.h5  2018-10-14T01:53:36.912Z   \n",
       "1  ATL03_20181014130413_02430105_006_02.h5  2018-10-14T13:04:12.567Z   \n",
       "2  ATL03_20181014143830_02440105_006_02.h5  2018-10-14T14:38:29.879Z   \n",
       "\n",
       "                   time_end                                           polygons  \n",
       "0  2018-10-14T01:59:02.315Z  [[80.05247 -166.98121 80.02874 -167.61386 79.5...  \n",
       "1  2018-10-14T13:09:37.946Z  [[80.02773 -130.816 80.05141 -131.44724 79.599...  \n",
       "2  2018-10-14T14:43:55.296Z  [[80.02762 -154.42548 80.05132 -155.0567 79.58...  "
      ]
     },
     "execution_count": 36,
     "metadata": {},
     "output_type": "execute_result"
    }
   ],
   "source": [
    "%%time\n",
    "\n",
    "df = get_cmr_granules(params)\n",
    "df.head(3)"
   ]
  },
  {
   "cell_type": "markdown",
   "id": "046d0b9b-f6db-4260-b111-e692bb485172",
   "metadata": {},
   "source": [
    "## ASYNC"
   ]
  },
  {
   "cell_type": "code",
   "execution_count": 37,
   "id": "d4e79068-a8c2-47a5-86bb-2f935b3cbd4a",
   "metadata": {
    "tags": []
   },
   "outputs": [],
   "source": [
    "params={\n",
    "    #'concept_id': ['C2120512202-NSIDC_ECS'],\n",
    "    'concept_id': ['C2559919423-NSIDC_ECS'], # Version 6\n",
    "    #'temporal': '2021-10-17T00:00:00Z,2021-10-19T23:59:59Z',\n",
    "    'bounding_box': '-170,60,-140,70',\n",
    "    'page_size': 2000,\n",
    "    }"
   ]
  },
  {
   "cell_type": "code",
   "execution_count": 38,
   "id": "fc0dd900-cbc8-4203-8c39-bbd44ac40368",
   "metadata": {
    "tags": []
   },
   "outputs": [],
   "source": [
    "def get_cmr_pages_urls(params): \n",
    "    response = requests.get('https://cmr.earthdata.nasa.gov/search/granules',\n",
    "                       params=params,\n",
    "                       headers={\n",
    "                           'Accept': 'application/json'\n",
    "                       }\n",
    "                      )\n",
    "    hits = int(response.headers['CMR-Hits'])\n",
    "    n_pages = math.ceil(hits/page_size)\n",
    "    cmr_pages_urls = [f'{response.url}&page_num={x}'.replace('granules?', 'granules.json?') for x in list(range(1,n_pages+1))]\n",
    "    return cmr_pages_urls"
   ]
  },
  {
   "cell_type": "code",
   "execution_count": 39,
   "id": "9e96709b-54c9-4c3d-aef1-b995390432c2",
   "metadata": {
    "tags": []
   },
   "outputs": [
    {
     "data": {
      "text/plain": [
       "['https://cmr.earthdata.nasa.gov/search/granules.json?concept_id=C2559919423-NSIDC_ECS&bounding_box=-170%2C60%2C-140%2C70&page_size=2000&page_num=1',\n",
       " 'https://cmr.earthdata.nasa.gov/search/granules.json?concept_id=C2559919423-NSIDC_ECS&bounding_box=-170%2C60%2C-140%2C70&page_size=2000&page_num=2',\n",
       " 'https://cmr.earthdata.nasa.gov/search/granules.json?concept_id=C2559919423-NSIDC_ECS&bounding_box=-170%2C60%2C-140%2C70&page_size=2000&page_num=3']"
      ]
     },
     "execution_count": 39,
     "metadata": {},
     "output_type": "execute_result"
    }
   ],
   "source": [
    "urls = get_cmr_pages_urls(params)\n",
    "urls"
   ]
  },
  {
   "cell_type": "code",
   "execution_count": 40,
   "id": "92c5e5aa-edd8-40b2-bdbc-341b82b7c93f",
   "metadata": {
    "tags": []
   },
   "outputs": [],
   "source": [
    "results = []"
   ]
  },
  {
   "cell_type": "code",
   "execution_count": 41,
   "id": "0f9d4a86-9ae5-4a1e-b26b-60cbfff96b41",
   "metadata": {
    "tags": []
   },
   "outputs": [],
   "source": [
    "def get_tasks(session):\n",
    "    tasks = []\n",
    "    for l in urls:\n",
    "        tasks.append(session.get(l))\n",
    "    return tasks"
   ]
  },
  {
   "cell_type": "code",
   "execution_count": 42,
   "id": "ab0a7a67-5940-48a8-9944-2183358eb377",
   "metadata": {
    "tags": []
   },
   "outputs": [],
   "source": [
    "async def get_url():\n",
    "    async with aiohttp.ClientSession() as session:\n",
    "        tasks = get_tasks(session)\n",
    "        responses = await asyncio.gather(*tasks)\n",
    "        for response in responses:\n",
    "            res = await response.json()\n",
    "            #print(res)\n",
    "            granules = res['feed']['entry']\n",
    "            results.extend([{key: x[key] for key in keys} for x in granules])"
   ]
  },
  {
   "cell_type": "code",
   "execution_count": 43,
   "id": "d25f9310-7e4c-4137-acdb-609d6cadb08e",
   "metadata": {
    "tags": []
   },
   "outputs": [
    {
     "data": {
      "text/plain": [
       "24.869367361068726"
      ]
     },
     "execution_count": 43,
     "metadata": {},
     "output_type": "execute_result"
    }
   ],
   "source": [
    "start = time.time() \n",
    "\n",
    "await get_url()\n",
    "\n",
    "end = time.time()\n",
    "\n",
    "total_time = end - start\n",
    "total_time"
   ]
  },
  {
   "cell_type": "code",
   "execution_count": 44,
   "id": "279dfedf-bfc7-477b-b057-0ff055a7ed6d",
   "metadata": {
    "tags": []
   },
   "outputs": [
    {
     "data": {
      "text/plain": [
       "4490"
      ]
     },
     "execution_count": 44,
     "metadata": {},
     "output_type": "execute_result"
    }
   ],
   "source": [
    "len(results)"
   ]
  },
  {
   "cell_type": "code",
   "execution_count": 45,
   "id": "1bdb9a8d-9ad6-456b-a726-78b4fc1308a8",
   "metadata": {
    "tags": []
   },
   "outputs": [
    {
     "name": "stdout",
     "output_type": "stream",
     "text": [
      "CPU times: user 5.1 ms, sys: 307 µs, total: 5.4 ms\n",
      "Wall time: 5.21 ms\n"
     ]
    },
    {
     "data": {
      "text/html": [
       "<div>\n",
       "<style scoped>\n",
       "    .dataframe tbody tr th:only-of-type {\n",
       "        vertical-align: middle;\n",
       "    }\n",
       "\n",
       "    .dataframe tbody tr th {\n",
       "        vertical-align: top;\n",
       "    }\n",
       "\n",
       "    .dataframe thead th {\n",
       "        text-align: right;\n",
       "    }\n",
       "</style>\n",
       "<table border=\"1\" class=\"dataframe\">\n",
       "  <thead>\n",
       "    <tr style=\"text-align: right;\">\n",
       "      <th></th>\n",
       "      <th>producer_granule_id</th>\n",
       "      <th>time_start</th>\n",
       "      <th>time_end</th>\n",
       "      <th>polygons</th>\n",
       "    </tr>\n",
       "  </thead>\n",
       "  <tbody>\n",
       "    <tr>\n",
       "      <th>0</th>\n",
       "      <td>ATL03_20181014015337_02360103_006_02.h5</td>\n",
       "      <td>2018-10-14T01:53:36.912Z</td>\n",
       "      <td>2018-10-14T01:59:02.315Z</td>\n",
       "      <td>[[80.05247 -166.98121 80.02874 -167.61386 79.5...</td>\n",
       "    </tr>\n",
       "    <tr>\n",
       "      <th>1</th>\n",
       "      <td>ATL03_20181014130413_02430105_006_02.h5</td>\n",
       "      <td>2018-10-14T13:04:12.567Z</td>\n",
       "      <td>2018-10-14T13:09:37.946Z</td>\n",
       "      <td>[[80.02773 -130.816 80.05141 -131.44724 79.599...</td>\n",
       "    </tr>\n",
       "    <tr>\n",
       "      <th>2</th>\n",
       "      <td>ATL03_20181014143830_02440105_006_02.h5</td>\n",
       "      <td>2018-10-14T14:38:29.879Z</td>\n",
       "      <td>2018-10-14T14:43:55.296Z</td>\n",
       "      <td>[[80.02762 -154.42548 80.05132 -155.0567 79.58...</td>\n",
       "    </tr>\n",
       "  </tbody>\n",
       "</table>\n",
       "</div>"
      ],
      "text/plain": [
       "                       producer_granule_id                time_start  \\\n",
       "0  ATL03_20181014015337_02360103_006_02.h5  2018-10-14T01:53:36.912Z   \n",
       "1  ATL03_20181014130413_02430105_006_02.h5  2018-10-14T13:04:12.567Z   \n",
       "2  ATL03_20181014143830_02440105_006_02.h5  2018-10-14T14:38:29.879Z   \n",
       "\n",
       "                   time_end                                           polygons  \n",
       "0  2018-10-14T01:59:02.315Z  [[80.05247 -166.98121 80.02874 -167.61386 79.5...  \n",
       "1  2018-10-14T13:09:37.946Z  [[80.02773 -130.816 80.05141 -131.44724 79.599...  \n",
       "2  2018-10-14T14:43:55.296Z  [[80.02762 -154.42548 80.05132 -155.0567 79.58...  "
      ]
     },
     "execution_count": 45,
     "metadata": {},
     "output_type": "execute_result"
    }
   ],
   "source": [
    "%%time \n",
    "\n",
    "df = pd.DataFrame(results)\n",
    "df.head(3)"
   ]
  },
  {
   "cell_type": "code",
   "execution_count": 46,
   "id": "a0ec4c40-aa7d-432b-81ab-688abe81b03d",
   "metadata": {
    "tags": []
   },
   "outputs": [
    {
     "data": {
      "text/plain": [
       "0.7252495288848877"
      ]
     },
     "execution_count": 46,
     "metadata": {},
     "output_type": "execute_result"
    }
   ],
   "source": [
    "#%%time \n",
    "# non-blocking for some reason so %%time doesn work...\n",
    "\n",
    "start = time.time() \n",
    "\n",
    "# Add midpoint time, coerce to shapely geometry.\n",
    "# NOTE: make this faster? \n",
    "df['time_start'] = pd.to_datetime(df.time_start).dt.tz_localize(None)\n",
    "df['time_end'] = pd.to_datetime(df.time_end).dt.tz_localize(None)\n",
    "df['datetime'] = df.time_start + (df.time_end - df.time_start)/2\n",
    "df['geometry'] = df.polygons.apply(lambda x: polygons2shapely(x))\n",
    "gf = gpd.GeoDataFrame(df.drop(columns='polygons'), crs='EPSG:4326')\n",
    "\n",
    "\n",
    "end = time.time()\n",
    "total_time = end - start\n",
    "total_time"
   ]
  },
  {
   "cell_type": "code",
   "execution_count": 47,
   "id": "58d389ab-0c8e-4eae-9b15-49753fa1489f",
   "metadata": {
    "tags": []
   },
   "outputs": [
    {
     "data": {
      "text/html": [
       "<div>\n",
       "<style scoped>\n",
       "    .dataframe tbody tr th:only-of-type {\n",
       "        vertical-align: middle;\n",
       "    }\n",
       "\n",
       "    .dataframe tbody tr th {\n",
       "        vertical-align: top;\n",
       "    }\n",
       "\n",
       "    .dataframe thead th {\n",
       "        text-align: right;\n",
       "    }\n",
       "</style>\n",
       "<table border=\"1\" class=\"dataframe\">\n",
       "  <thead>\n",
       "    <tr style=\"text-align: right;\">\n",
       "      <th></th>\n",
       "      <th>producer_granule_id</th>\n",
       "      <th>time_start</th>\n",
       "      <th>time_end</th>\n",
       "      <th>datetime</th>\n",
       "      <th>geometry</th>\n",
       "    </tr>\n",
       "  </thead>\n",
       "  <tbody>\n",
       "    <tr>\n",
       "      <th>0</th>\n",
       "      <td>ATL03_20181014015337_02360103_006_02.h5</td>\n",
       "      <td>2018-10-14 01:53:36.912</td>\n",
       "      <td>2018-10-14 01:59:02.315</td>\n",
       "      <td>2018-10-14 01:56:19.613500</td>\n",
       "      <td>POLYGON ((-166.98121 80.05247, -167.61386 80.0...</td>\n",
       "    </tr>\n",
       "    <tr>\n",
       "      <th>1</th>\n",
       "      <td>ATL03_20181014130413_02430105_006_02.h5</td>\n",
       "      <td>2018-10-14 13:04:12.567</td>\n",
       "      <td>2018-10-14 13:09:37.946</td>\n",
       "      <td>2018-10-14 13:06:55.256500</td>\n",
       "      <td>POLYGON ((-130.81600 80.02773, -131.44724 80.0...</td>\n",
       "    </tr>\n",
       "    <tr>\n",
       "      <th>2</th>\n",
       "      <td>ATL03_20181014143830_02440105_006_02.h5</td>\n",
       "      <td>2018-10-14 14:38:29.879</td>\n",
       "      <td>2018-10-14 14:43:55.296</td>\n",
       "      <td>2018-10-14 14:41:12.587500</td>\n",
       "      <td>POLYGON ((-154.42548 80.02762, -155.05670 80.0...</td>\n",
       "    </tr>\n",
       "    <tr>\n",
       "      <th>3</th>\n",
       "      <td>ATL03_20181015012758_02510103_006_02.h5</td>\n",
       "      <td>2018-10-15 01:27:57.020</td>\n",
       "      <td>2018-10-15 01:33:22.415</td>\n",
       "      <td>2018-10-15 01:30:39.717500</td>\n",
       "      <td>POLYGON ((-161.27172 80.05242, -161.90395 80.0...</td>\n",
       "    </tr>\n",
       "    <tr>\n",
       "      <th>4</th>\n",
       "      <td>ATL03_20181015141251_02590105_006_02.h5</td>\n",
       "      <td>2018-10-15 14:12:49.940</td>\n",
       "      <td>2018-10-15 14:18:15.349</td>\n",
       "      <td>2018-10-15 14:15:32.644500</td>\n",
       "      <td>POLYGON ((-148.71786 80.02766, -149.34874 80.0...</td>\n",
       "    </tr>\n",
       "  </tbody>\n",
       "</table>\n",
       "</div>"
      ],
      "text/plain": [
       "                       producer_granule_id              time_start  \\\n",
       "0  ATL03_20181014015337_02360103_006_02.h5 2018-10-14 01:53:36.912   \n",
       "1  ATL03_20181014130413_02430105_006_02.h5 2018-10-14 13:04:12.567   \n",
       "2  ATL03_20181014143830_02440105_006_02.h5 2018-10-14 14:38:29.879   \n",
       "3  ATL03_20181015012758_02510103_006_02.h5 2018-10-15 01:27:57.020   \n",
       "4  ATL03_20181015141251_02590105_006_02.h5 2018-10-15 14:12:49.940   \n",
       "\n",
       "                 time_end                   datetime  \\\n",
       "0 2018-10-14 01:59:02.315 2018-10-14 01:56:19.613500   \n",
       "1 2018-10-14 13:09:37.946 2018-10-14 13:06:55.256500   \n",
       "2 2018-10-14 14:43:55.296 2018-10-14 14:41:12.587500   \n",
       "3 2018-10-15 01:33:22.415 2018-10-15 01:30:39.717500   \n",
       "4 2018-10-15 14:18:15.349 2018-10-15 14:15:32.644500   \n",
       "\n",
       "                                            geometry  \n",
       "0  POLYGON ((-166.98121 80.05247, -167.61386 80.0...  \n",
       "1  POLYGON ((-130.81600 80.02773, -131.44724 80.0...  \n",
       "2  POLYGON ((-154.42548 80.02762, -155.05670 80.0...  \n",
       "3  POLYGON ((-161.27172 80.05242, -161.90395 80.0...  \n",
       "4  POLYGON ((-148.71786 80.02766, -149.34874 80.0...  "
      ]
     },
     "execution_count": 47,
     "metadata": {},
     "output_type": "execute_result"
    }
   ],
   "source": [
    "gf.head()"
   ]
  },
  {
   "cell_type": "code",
   "execution_count": 48,
   "id": "f7f7011e-1d47-4aeb-b95b-6a90c173589b",
   "metadata": {
    "tags": []
   },
   "outputs": [
    {
     "data": {
      "text/plain": [
       "4490"
      ]
     },
     "execution_count": 48,
     "metadata": {},
     "output_type": "execute_result"
    }
   ],
   "source": [
    "len(gf)"
   ]
  },
  {
   "cell_type": "code",
   "execution_count": 53,
   "id": "23df37e4-c878-4d74-8d4f-982cb9dc74d7",
   "metadata": {
    "tags": []
   },
   "outputs": [],
   "source": [
    "gf.to_file('IS2_Alaska.geojson', driver='GeoJSON')"
   ]
  },
  {
   "cell_type": "code",
   "execution_count": 54,
   "id": "992d60a8-3c52-4cee-b2c7-1314c18461fa",
   "metadata": {
    "tags": []
   },
   "outputs": [],
   "source": [
    "gf.to_file('IS2_Alaska.gpkg', driver='GPKG')"
   ]
  },
  {
   "cell_type": "code",
   "execution_count": 55,
   "id": "7cbcf0b9-1715-4c5d-8bb2-45d650ab8255",
   "metadata": {
    "tags": []
   },
   "outputs": [],
   "source": [
    "gf.to_parquet('IS2_Alaska.parquet', version='2.6')"
   ]
  },
  {
   "cell_type": "code",
   "execution_count": 56,
   "id": "83f14e79-30fe-4d68-93ea-764821f1a0d6",
   "metadata": {
    "tags": []
   },
   "outputs": [
    {
     "name": "stdout",
     "output_type": "stream",
     "text": [
      "-rw-r--r-- 1 jovyan jovyan 6.8M Jul 19 14:43 IS2_Alaska.geojson\n",
      "-rw-r--r-- 1 jovyan jovyan 4.8M Jul 19 14:43 IS2_Alaska.gpkg\n",
      "-rw-r--r-- 1 jovyan jovyan 3.5M Jul 19 14:43 IS2_Alaska.parquet\n"
     ]
    }
   ],
   "source": [
    "!ls -lh IS2*"
   ]
  },
  {
   "cell_type": "code",
   "execution_count": 57,
   "id": "1571856c-7e35-4877-8af6-c9c50f6762cc",
   "metadata": {
    "tags": []
   },
   "outputs": [],
   "source": [
    "test = gpd.read_file('IS2_Alaska.geojson')"
   ]
  },
  {
   "cell_type": "code",
   "execution_count": 58,
   "id": "3be85334-561c-4978-9922-66a404430ea2",
   "metadata": {
    "tags": []
   },
   "outputs": [
    {
     "name": "stdout",
     "output_type": "stream",
     "text": [
      "<class 'geopandas.geodataframe.GeoDataFrame'>\n",
      "RangeIndex: 4490 entries, 0 to 4489\n",
      "Data columns (total 5 columns):\n",
      " #   Column               Non-Null Count  Dtype         \n",
      "---  ------               --------------  -----         \n",
      " 0   producer_granule_id  4490 non-null   object        \n",
      " 1   time_start           4490 non-null   datetime64[ns]\n",
      " 2   time_end             4490 non-null   datetime64[ns]\n",
      " 3   datetime             4490 non-null   datetime64[ns]\n",
      " 4   geometry             4490 non-null   geometry      \n",
      "dtypes: datetime64[ns](3), geometry(1), object(1)\n",
      "memory usage: 175.5+ KB\n"
     ]
    }
   ],
   "source": [
    "test.info()"
   ]
  },
  {
   "cell_type": "code",
   "execution_count": 59,
   "id": "f18c4441-2331-4ea6-9539-0b65b5641c8f",
   "metadata": {
    "tags": []
   },
   "outputs": [
    {
     "data": {
      "text/html": [
       "<div>\n",
       "<style scoped>\n",
       "    .dataframe tbody tr th:only-of-type {\n",
       "        vertical-align: middle;\n",
       "    }\n",
       "\n",
       "    .dataframe tbody tr th {\n",
       "        vertical-align: top;\n",
       "    }\n",
       "\n",
       "    .dataframe thead th {\n",
       "        text-align: right;\n",
       "    }\n",
       "</style>\n",
       "<table border=\"1\" class=\"dataframe\">\n",
       "  <thead>\n",
       "    <tr style=\"text-align: right;\">\n",
       "      <th></th>\n",
       "      <th>producer_granule_id</th>\n",
       "      <th>time_start</th>\n",
       "      <th>time_end</th>\n",
       "      <th>datetime</th>\n",
       "      <th>geometry</th>\n",
       "    </tr>\n",
       "  </thead>\n",
       "  <tbody>\n",
       "    <tr>\n",
       "      <th>0</th>\n",
       "      <td>ATL03_20181014015337_02360103_005_01.h5</td>\n",
       "      <td>2018-10-14 01:53:36.912</td>\n",
       "      <td>2018-10-14 01:59:02.315</td>\n",
       "      <td>2018-10-14 01:56:19.614</td>\n",
       "      <td>POLYGON ((-158.02215 57.70234, -157.41701 57.7...</td>\n",
       "    </tr>\n",
       "    <tr>\n",
       "      <th>1</th>\n",
       "      <td>ATL03_20181014130413_02430105_005_01.h5</td>\n",
       "      <td>2018-10-14 13:04:12.567</td>\n",
       "      <td>2018-10-14 13:09:37.946</td>\n",
       "      <td>2018-10-14 13:06:55.257</td>\n",
       "      <td>POLYGON ((-125.59580 82.61181, -128.03395 82.7...</td>\n",
       "    </tr>\n",
       "    <tr>\n",
       "      <th>2</th>\n",
       "      <td>ATL03_20181014143830_02440105_005_01.h5</td>\n",
       "      <td>2018-10-14 14:38:29.879</td>\n",
       "      <td>2018-10-14 14:43:55.296</td>\n",
       "      <td>2018-10-14 14:41:12.588</td>\n",
       "      <td>POLYGON ((-149.21453 82.61181, -151.65268 82.7...</td>\n",
       "    </tr>\n",
       "  </tbody>\n",
       "</table>\n",
       "</div>"
      ],
      "text/plain": [
       "                       producer_granule_id              time_start  \\\n",
       "0  ATL03_20181014015337_02360103_005_01.h5 2018-10-14 01:53:36.912   \n",
       "1  ATL03_20181014130413_02430105_005_01.h5 2018-10-14 13:04:12.567   \n",
       "2  ATL03_20181014143830_02440105_005_01.h5 2018-10-14 14:38:29.879   \n",
       "\n",
       "                 time_end                datetime  \\\n",
       "0 2018-10-14 01:59:02.315 2018-10-14 01:56:19.614   \n",
       "1 2018-10-14 13:09:37.946 2018-10-14 13:06:55.257   \n",
       "2 2018-10-14 14:43:55.296 2018-10-14 14:41:12.588   \n",
       "\n",
       "                                            geometry  \n",
       "0  POLYGON ((-158.02215 57.70234, -157.41701 57.7...  \n",
       "1  POLYGON ((-125.59580 82.61181, -128.03395 82.7...  \n",
       "2  POLYGON ((-149.21453 82.61181, -151.65268 82.7...  "
      ]
     },
     "execution_count": 59,
     "metadata": {},
     "output_type": "execute_result"
    }
   ],
   "source": [
    "gf = gpd.read_file('https://github.com/scottyhq/IS2I/raw/main/IS2_Alaska.geojson')\n",
    "gf.head(3)"
   ]
  },
  {
   "cell_type": "code",
   "execution_count": null,
   "id": "d465586b-806f-40b0-85f7-57d1e8772b51",
   "metadata": {},
   "outputs": [],
   "source": []
  }
 ],
 "metadata": {
  "kernelspec": {
   "display_name": "Python 3 (ipykernel)",
   "language": "python",
   "name": "python3"
  },
  "language_info": {
   "codemirror_mode": {
    "name": "ipython",
    "version": 3
   },
   "file_extension": ".py",
   "mimetype": "text/x-python",
   "name": "python",
   "nbconvert_exporter": "python",
   "pygments_lexer": "ipython3",
   "version": "3.10.11"
  }
 },
 "nbformat": 4,
 "nbformat_minor": 5
}

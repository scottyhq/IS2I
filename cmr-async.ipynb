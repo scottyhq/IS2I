{
 "cells": [
  {
   "cell_type": "markdown",
   "id": "a77cc905-ab85-483c-b18d-98de012d2f8c",
   "metadata": {},
   "source": [
    "# Goal: given bbox and time construct ATL03 database (footprint + timestamp)\n",
    "\n",
    "based on https://git.earthdata.nasa.gov/projects/LPDUR/repos/cmr-api---hls-bulk-query/browse\n",
    "\n",
    "Steps:\n",
    "\n",
    "1. do it serial\n",
    "2. use an async function"
   ]
  },
  {
   "cell_type": "code",
   "execution_count": 1,
   "id": "867c5e3e-c72d-46c7-af51-b1129ec87ad9",
   "metadata": {},
   "outputs": [],
   "source": [
    "import requests\n",
    "import math\n",
    "import aiohttp\n",
    "import asyncio\n",
    "import time\n",
    "\n",
    "import pandas as pd\n",
    "import shapely\n",
    "import geopandas as gpd"
   ]
  },
  {
   "cell_type": "code",
   "execution_count": 2,
   "id": "9b1d73e6-162a-4b66-a3de-07349b577ec6",
   "metadata": {},
   "outputs": [
    {
     "name": "stdout",
     "output_type": "stream",
     "text": [
      "https://cmr.earthdata.nasa.gov/search/granules\n"
     ]
    }
   ],
   "source": [
    "CMR_OPS = 'https://cmr.earthdata.nasa.gov/search' # CMR API Endpoint\n",
    "url = f'{CMR_OPS}/{\"granules\"}'\n",
    "print(url)"
   ]
  },
  {
   "cell_type": "markdown",
   "id": "e58d01a1-a9ba-49ef-8c09-1a261f2a8730",
   "metadata": {},
   "source": [
    "## Smallish testcase"
   ]
  },
  {
   "cell_type": "code",
   "execution_count": 3,
   "id": "eba7af12-bcd0-47bd-b2bf-f076b2ee4fb8",
   "metadata": {},
   "outputs": [],
   "source": [
    "# https://github.com/Element84/cmr-stac-api-proxy/issues/30\n",
    "collections = ['C2120512202-NSIDC_ECS']\n",
    "datetime_range = '2021-10-17T00:00:00Z,2021-10-19T23:59:59Z'\n",
    "bbox = '-170,60,-140,70' # most of alaska\n",
    "page_size = 2000"
   ]
  },
  {
   "cell_type": "code",
   "execution_count": 4,
   "id": "ce722c5a-11b9-4b43-879c-d909738ef553",
   "metadata": {},
   "outputs": [
    {
     "name": "stdout",
     "output_type": "stream",
     "text": [
      "200\n",
      "CPU times: user 42.2 ms, sys: 3.55 ms, total: 45.7 ms\n",
      "Wall time: 1.07 s\n"
     ]
    }
   ],
   "source": [
    "%%time\n",
    "\n",
    "# All time: 5.44s, 4039 granules\n",
    "# 2021-10-17 to 19: Wall time: 1.8 s, 9 granules, 300-640 ms today, seems quite variable...\n",
    "\n",
    "response = requests.get(url, \n",
    "                        params={\n",
    "                            'concept_id': collections,\n",
    "                            'temporal': datetime_range,\n",
    "                            'bounding_box': bbox,\n",
    "                            'page_size': page_size,\n",
    "                            },\n",
    "                        headers={\n",
    "                            'Accept': 'application/json'\n",
    "                            }\n",
    "                       )\n",
    "print(response.status_code)"
   ]
  },
  {
   "cell_type": "code",
   "execution_count": 5,
   "id": "8ef5c73b-73e6-44a7-9609-a9045dbd467f",
   "metadata": {},
   "outputs": [
    {
     "name": "stdout",
     "output_type": "stream",
     "text": [
      "9\n"
     ]
    }
   ],
   "source": [
    "print(response.headers['CMR-Hits']) # Resulting quantity of granules/items."
   ]
  },
  {
   "cell_type": "code",
   "execution_count": 6,
   "id": "e6a928de-3ffb-4579-9e28-2c899513f2b3",
   "metadata": {},
   "outputs": [
    {
     "name": "stdout",
     "output_type": "stream",
     "text": [
      "CPU times: user 474 µs, sys: 308 µs, total: 782 µs\n",
      "Wall time: 787 µs\n"
     ]
    }
   ],
   "source": [
    "%%time\n",
    "# Actually get JSON per granule (1st 2000 hits)\n",
    "granules = response.json()['feed']['entry']"
   ]
  },
  {
   "cell_type": "code",
   "execution_count": 7,
   "id": "103c3ac3-b081-478f-ba64-fac23df0cff8",
   "metadata": {},
   "outputs": [
    {
     "data": {
      "text/html": [
       "<div>\n",
       "<style scoped>\n",
       "    .dataframe tbody tr th:only-of-type {\n",
       "        vertical-align: middle;\n",
       "    }\n",
       "\n",
       "    .dataframe tbody tr th {\n",
       "        vertical-align: top;\n",
       "    }\n",
       "\n",
       "    .dataframe thead th {\n",
       "        text-align: right;\n",
       "    }\n",
       "</style>\n",
       "<table border=\"1\" class=\"dataframe\">\n",
       "  <thead>\n",
       "    <tr style=\"text-align: right;\">\n",
       "      <th></th>\n",
       "      <th>producer_granule_id</th>\n",
       "      <th>time_start</th>\n",
       "      <th>time_end</th>\n",
       "      <th>polygons</th>\n",
       "    </tr>\n",
       "  </thead>\n",
       "  <tbody>\n",
       "    <tr>\n",
       "      <th>0</th>\n",
       "      <td>ATL03_20211017095408_03811305_005_01.h5</td>\n",
       "      <td>2021-10-17T09:54:08.705Z</td>\n",
       "      <td>2021-10-17T09:59:33.831Z</td>\n",
       "      <td>[[82.61181287249774 -145.06163097699368 64.252...</td>\n",
       "    </tr>\n",
       "    <tr>\n",
       "      <th>1</th>\n",
       "      <td>ATL03_20211017204335_03881303_005_01.h5</td>\n",
       "      <td>2021-10-17T20:43:36.058Z</td>\n",
       "      <td>2021-10-17T20:49:01.491Z</td>\n",
       "      <td>[[57.70233662448695 -148.15869641435995 76.195...</td>\n",
       "    </tr>\n",
       "    <tr>\n",
       "      <th>2</th>\n",
       "      <td>ATL03_20211018092829_03961305_005_01.h5</td>\n",
       "      <td>2021-10-18T09:28:29.226Z</td>\n",
       "      <td>2021-10-18T09:33:54.653Z</td>\n",
       "      <td>[[82.5525316835928 -139.49564575164013 64.1910...</td>\n",
       "    </tr>\n",
       "    <tr>\n",
       "      <th>3</th>\n",
       "      <td>ATL03_20211018201756_04031303_005_01.h5</td>\n",
       "      <td>2021-10-18T20:17:56.827Z</td>\n",
       "      <td>2021-10-18T20:23:22.267Z</td>\n",
       "      <td>[[57.70233662448695 -142.44838395035342 76.195...</td>\n",
       "    </tr>\n",
       "    <tr>\n",
       "      <th>4</th>\n",
       "      <td>ATL03_20211018215214_04041303_005_01.h5</td>\n",
       "      <td>2021-10-18T21:52:14.265Z</td>\n",
       "      <td>2021-10-18T21:57:39.707Z</td>\n",
       "      <td>[[57.70233662448695 -166.06800557681 76.195857...</td>\n",
       "    </tr>\n",
       "  </tbody>\n",
       "</table>\n",
       "</div>"
      ],
      "text/plain": [
       "                       producer_granule_id                time_start  \\\n",
       "0  ATL03_20211017095408_03811305_005_01.h5  2021-10-17T09:54:08.705Z   \n",
       "1  ATL03_20211017204335_03881303_005_01.h5  2021-10-17T20:43:36.058Z   \n",
       "2  ATL03_20211018092829_03961305_005_01.h5  2021-10-18T09:28:29.226Z   \n",
       "3  ATL03_20211018201756_04031303_005_01.h5  2021-10-18T20:17:56.827Z   \n",
       "4  ATL03_20211018215214_04041303_005_01.h5  2021-10-18T21:52:14.265Z   \n",
       "\n",
       "                   time_end                                           polygons  \n",
       "0  2021-10-17T09:59:33.831Z  [[82.61181287249774 -145.06163097699368 64.252...  \n",
       "1  2021-10-17T20:49:01.491Z  [[57.70233662448695 -148.15869641435995 76.195...  \n",
       "2  2021-10-18T09:33:54.653Z  [[82.5525316835928 -139.49564575164013 64.1910...  \n",
       "3  2021-10-18T20:23:22.267Z  [[57.70233662448695 -142.44838395035342 76.195...  \n",
       "4  2021-10-18T21:57:39.707Z  [[57.70233662448695 -166.06800557681 76.195857...  "
      ]
     },
     "execution_count": 7,
     "metadata": {},
     "output_type": "execute_result"
    }
   ],
   "source": [
    "# Just create a dataframe with the basics\n",
    "keys = ['producer_granule_id', 'time_start', 'time_end', 'polygons'] #, ?link {key: old_dict[key] for key in your_keys}\n",
    "\n",
    "# nested list comprehension to filter dictionaries\n",
    "df = pd.DataFrame([{key: x[key] for key in keys} for x in granules])\n",
    "df.head()"
   ]
  },
  {
   "cell_type": "code",
   "execution_count": 8,
   "id": "238690af-4e85-4fba-8a09-7f357bda8b12",
   "metadata": {},
   "outputs": [
    {
     "data": {
      "text/html": [
       "<div>\n",
       "<style scoped>\n",
       "    .dataframe tbody tr th:only-of-type {\n",
       "        vertical-align: middle;\n",
       "    }\n",
       "\n",
       "    .dataframe tbody tr th {\n",
       "        vertical-align: top;\n",
       "    }\n",
       "\n",
       "    .dataframe thead th {\n",
       "        text-align: right;\n",
       "    }\n",
       "</style>\n",
       "<table border=\"1\" class=\"dataframe\">\n",
       "  <thead>\n",
       "    <tr style=\"text-align: right;\">\n",
       "      <th></th>\n",
       "      <th>producer_granule_id</th>\n",
       "      <th>time_start</th>\n",
       "      <th>time_end</th>\n",
       "      <th>polygons</th>\n",
       "      <th>datetime</th>\n",
       "    </tr>\n",
       "  </thead>\n",
       "  <tbody>\n",
       "    <tr>\n",
       "      <th>0</th>\n",
       "      <td>ATL03_20211017095408_03811305_005_01.h5</td>\n",
       "      <td>2021-10-17 09:54:08.705</td>\n",
       "      <td>2021-10-17 09:59:33.831</td>\n",
       "      <td>[[82.61181287249774 -145.06163097699368 64.252...</td>\n",
       "      <td>2021-10-17 09:56:51.268000</td>\n",
       "    </tr>\n",
       "    <tr>\n",
       "      <th>1</th>\n",
       "      <td>ATL03_20211017204335_03881303_005_01.h5</td>\n",
       "      <td>2021-10-17 20:43:36.058</td>\n",
       "      <td>2021-10-17 20:49:01.491</td>\n",
       "      <td>[[57.70233662448695 -148.15869641435995 76.195...</td>\n",
       "      <td>2021-10-17 20:46:18.774500</td>\n",
       "    </tr>\n",
       "    <tr>\n",
       "      <th>2</th>\n",
       "      <td>ATL03_20211018092829_03961305_005_01.h5</td>\n",
       "      <td>2021-10-18 09:28:29.226</td>\n",
       "      <td>2021-10-18 09:33:54.653</td>\n",
       "      <td>[[82.5525316835928 -139.49564575164013 64.1910...</td>\n",
       "      <td>2021-10-18 09:31:11.939500</td>\n",
       "    </tr>\n",
       "    <tr>\n",
       "      <th>3</th>\n",
       "      <td>ATL03_20211018201756_04031303_005_01.h5</td>\n",
       "      <td>2021-10-18 20:17:56.827</td>\n",
       "      <td>2021-10-18 20:23:22.267</td>\n",
       "      <td>[[57.70233662448695 -142.44838395035342 76.195...</td>\n",
       "      <td>2021-10-18 20:20:39.547000</td>\n",
       "    </tr>\n",
       "    <tr>\n",
       "      <th>4</th>\n",
       "      <td>ATL03_20211018215214_04041303_005_01.h5</td>\n",
       "      <td>2021-10-18 21:52:14.265</td>\n",
       "      <td>2021-10-18 21:57:39.707</td>\n",
       "      <td>[[57.70233662448695 -166.06800557681 76.195857...</td>\n",
       "      <td>2021-10-18 21:54:56.986000</td>\n",
       "    </tr>\n",
       "  </tbody>\n",
       "</table>\n",
       "</div>"
      ],
      "text/plain": [
       "                       producer_granule_id              time_start  \\\n",
       "0  ATL03_20211017095408_03811305_005_01.h5 2021-10-17 09:54:08.705   \n",
       "1  ATL03_20211017204335_03881303_005_01.h5 2021-10-17 20:43:36.058   \n",
       "2  ATL03_20211018092829_03961305_005_01.h5 2021-10-18 09:28:29.226   \n",
       "3  ATL03_20211018201756_04031303_005_01.h5 2021-10-18 20:17:56.827   \n",
       "4  ATL03_20211018215214_04041303_005_01.h5 2021-10-18 21:52:14.265   \n",
       "\n",
       "                 time_end                                           polygons  \\\n",
       "0 2021-10-17 09:59:33.831  [[82.61181287249774 -145.06163097699368 64.252...   \n",
       "1 2021-10-17 20:49:01.491  [[57.70233662448695 -148.15869641435995 76.195...   \n",
       "2 2021-10-18 09:33:54.653  [[82.5525316835928 -139.49564575164013 64.1910...   \n",
       "3 2021-10-18 20:23:22.267  [[57.70233662448695 -142.44838395035342 76.195...   \n",
       "4 2021-10-18 21:57:39.707  [[57.70233662448695 -166.06800557681 76.195857...   \n",
       "\n",
       "                    datetime  \n",
       "0 2021-10-17 09:56:51.268000  \n",
       "1 2021-10-17 20:46:18.774500  \n",
       "2 2021-10-18 09:31:11.939500  \n",
       "3 2021-10-18 20:20:39.547000  \n",
       "4 2021-10-18 21:54:56.986000  "
      ]
     },
     "execution_count": 8,
     "metadata": {},
     "output_type": "execute_result"
    }
   ],
   "source": [
    "df['time_start'] = pd.to_datetime(df.time_start).dt.tz_localize(None)\n",
    "df['time_end'] = pd.to_datetime(df.time_end).dt.tz_localize(None)\n",
    "df['datetime'] = df.time_start + (df.time_end - df.time_start)/2\n",
    "df.head()"
   ]
  },
  {
   "cell_type": "code",
   "execution_count": 9,
   "id": "c790ecff-2ca1-422c-9573-e84177cbf1f0",
   "metadata": {},
   "outputs": [],
   "source": [
    "def polygons2shapely(polygons):\n",
    "    ''' convert CMR string to shapely polygon for geopandas '''\n",
    "    coordlist = polygons[0][0].split() #list of lists (assume just one though)\n",
    "    lats = [float(x) for x in coordlist[::2]]\n",
    "    lons = [float(x) for x in coordlist[1::2]]\n",
    "    poly = shapely.geometry.Polygon(zip(lons,lats))\n",
    "    # Proper orientation to denote exterior boundary (poly.exterior.is_ccw)\n",
    "    poly = shapely.geometry.polygon.orient(poly)\n",
    "    return poly"
   ]
  },
  {
   "cell_type": "code",
   "execution_count": 10,
   "id": "b6a41aa0-f9e8-4b92-af6f-1b0a8d3b1fad",
   "metadata": {},
   "outputs": [],
   "source": [
    "poly = polygons2shapely(df.polygons.values[0])"
   ]
  },
  {
   "cell_type": "code",
   "execution_count": 11,
   "id": "8ef56eab-e8a5-43be-9be6-933bc0fb3fd2",
   "metadata": {},
   "outputs": [
    {
     "data": {
      "text/plain": [
       "True"
      ]
     },
     "execution_count": 11,
     "metadata": {},
     "output_type": "execute_result"
    }
   ],
   "source": [
    "poly.exterior.is_ccw"
   ]
  },
  {
   "cell_type": "code",
   "execution_count": 12,
   "id": "519cbe02-402b-4146-8150-59ca13fab581",
   "metadata": {},
   "outputs": [],
   "source": [
    "df['geometry'] = df.polygons.apply(lambda x: polygons2shapely(x))"
   ]
  },
  {
   "cell_type": "code",
   "execution_count": 13,
   "id": "bd9de037-2769-4501-9ebd-778c9b473029",
   "metadata": {},
   "outputs": [
    {
     "data": {
      "text/html": [
       "<div>\n",
       "<style scoped>\n",
       "    .dataframe tbody tr th:only-of-type {\n",
       "        vertical-align: middle;\n",
       "    }\n",
       "\n",
       "    .dataframe tbody tr th {\n",
       "        vertical-align: top;\n",
       "    }\n",
       "\n",
       "    .dataframe thead th {\n",
       "        text-align: right;\n",
       "    }\n",
       "</style>\n",
       "<table border=\"1\" class=\"dataframe\">\n",
       "  <thead>\n",
       "    <tr style=\"text-align: right;\">\n",
       "      <th></th>\n",
       "      <th>producer_granule_id</th>\n",
       "      <th>time_start</th>\n",
       "      <th>time_end</th>\n",
       "      <th>polygons</th>\n",
       "      <th>datetime</th>\n",
       "      <th>geometry</th>\n",
       "    </tr>\n",
       "  </thead>\n",
       "  <tbody>\n",
       "    <tr>\n",
       "      <th>0</th>\n",
       "      <td>ATL03_20211017095408_03811305_005_01.h5</td>\n",
       "      <td>2021-10-17 09:54:08.705</td>\n",
       "      <td>2021-10-17 09:59:33.831</td>\n",
       "      <td>[[82.61181287249774 -145.06163097699368 64.252...</td>\n",
       "      <td>2021-10-17 09:56:51.268000</td>\n",
       "      <td>POLYGON ((-145.06163 82.61181, -147.49978 82.7...</td>\n",
       "    </tr>\n",
       "    <tr>\n",
       "      <th>1</th>\n",
       "      <td>ATL03_20211017204335_03881303_005_01.h5</td>\n",
       "      <td>2021-10-17 20:43:36.058</td>\n",
       "      <td>2021-10-17 20:49:01.491</td>\n",
       "      <td>[[57.70233662448695 -148.15869641435995 76.195...</td>\n",
       "      <td>2021-10-17 20:46:18.774500</td>\n",
       "      <td>POLYGON ((-148.15870 57.70234, -147.55355 57.7...</td>\n",
       "    </tr>\n",
       "    <tr>\n",
       "      <th>2</th>\n",
       "      <td>ATL03_20211018092829_03961305_005_01.h5</td>\n",
       "      <td>2021-10-18 09:28:29.226</td>\n",
       "      <td>2021-10-18 09:33:54.653</td>\n",
       "      <td>[[82.5525316835928 -139.49564575164013 64.1910...</td>\n",
       "      <td>2021-10-18 09:31:11.939500</td>\n",
       "      <td>POLYGON ((-139.49565 82.55253, -141.91582 82.6...</td>\n",
       "    </tr>\n",
       "    <tr>\n",
       "      <th>3</th>\n",
       "      <td>ATL03_20211018201756_04031303_005_01.h5</td>\n",
       "      <td>2021-10-18 20:17:56.827</td>\n",
       "      <td>2021-10-18 20:23:22.267</td>\n",
       "      <td>[[57.70233662448695 -142.44838395035342 76.195...</td>\n",
       "      <td>2021-10-18 20:20:39.547000</td>\n",
       "      <td>POLYGON ((-142.44838 57.70234, -141.84324 57.7...</td>\n",
       "    </tr>\n",
       "    <tr>\n",
       "      <th>4</th>\n",
       "      <td>ATL03_20211018215214_04041303_005_01.h5</td>\n",
       "      <td>2021-10-18 21:52:14.265</td>\n",
       "      <td>2021-10-18 21:57:39.707</td>\n",
       "      <td>[[57.70233662448695 -166.06800557681 76.195857...</td>\n",
       "      <td>2021-10-18 21:54:56.986000</td>\n",
       "      <td>POLYGON ((-166.06801 57.70234, -165.46286 57.7...</td>\n",
       "    </tr>\n",
       "  </tbody>\n",
       "</table>\n",
       "</div>"
      ],
      "text/plain": [
       "                       producer_granule_id              time_start  \\\n",
       "0  ATL03_20211017095408_03811305_005_01.h5 2021-10-17 09:54:08.705   \n",
       "1  ATL03_20211017204335_03881303_005_01.h5 2021-10-17 20:43:36.058   \n",
       "2  ATL03_20211018092829_03961305_005_01.h5 2021-10-18 09:28:29.226   \n",
       "3  ATL03_20211018201756_04031303_005_01.h5 2021-10-18 20:17:56.827   \n",
       "4  ATL03_20211018215214_04041303_005_01.h5 2021-10-18 21:52:14.265   \n",
       "\n",
       "                 time_end                                           polygons  \\\n",
       "0 2021-10-17 09:59:33.831  [[82.61181287249774 -145.06163097699368 64.252...   \n",
       "1 2021-10-17 20:49:01.491  [[57.70233662448695 -148.15869641435995 76.195...   \n",
       "2 2021-10-18 09:33:54.653  [[82.5525316835928 -139.49564575164013 64.1910...   \n",
       "3 2021-10-18 20:23:22.267  [[57.70233662448695 -142.44838395035342 76.195...   \n",
       "4 2021-10-18 21:57:39.707  [[57.70233662448695 -166.06800557681 76.195857...   \n",
       "\n",
       "                    datetime  \\\n",
       "0 2021-10-17 09:56:51.268000   \n",
       "1 2021-10-17 20:46:18.774500   \n",
       "2 2021-10-18 09:31:11.939500   \n",
       "3 2021-10-18 20:20:39.547000   \n",
       "4 2021-10-18 21:54:56.986000   \n",
       "\n",
       "                                            geometry  \n",
       "0  POLYGON ((-145.06163 82.61181, -147.49978 82.7...  \n",
       "1  POLYGON ((-148.15870 57.70234, -147.55355 57.7...  \n",
       "2  POLYGON ((-139.49565 82.55253, -141.91582 82.6...  \n",
       "3  POLYGON ((-142.44838 57.70234, -141.84324 57.7...  \n",
       "4  POLYGON ((-166.06801 57.70234, -165.46286 57.7...  "
      ]
     },
     "execution_count": 13,
     "metadata": {},
     "output_type": "execute_result"
    }
   ],
   "source": [
    "gf = gpd.GeoDataFrame(df, crs='EPSG:4326')\n",
    "gf.head()"
   ]
  },
  {
   "cell_type": "code",
   "execution_count": 14,
   "id": "66a29a16-8d4b-4f2a-9ae4-d914510d9f9f",
   "metadata": {},
   "outputs": [
    {
     "data": {
      "text/plain": [
       "<Axes: >"
      ]
     },
     "execution_count": 14,
     "metadata": {},
     "output_type": "execute_result"
    },
    {
     "data": {
      "image/png": "[encoded data removed]",
      "text/plain": [
       "<Figure size 640x480 with 1 Axes>"
      ]
     },
     "metadata": {},
     "output_type": "display_data"
    }
   ],
   "source": [
    "gf.plot()"
   ]
  },
  {
   "cell_type": "markdown",
   "id": "ca467aff-e2fb-485e-9ce8-f5c423454475",
   "metadata": {},
   "source": [
    "## Most of alaska "
   ]
  },
  {
   "cell_type": "code",
   "execution_count": 15,
   "id": "ba7ec0c6-22d2-4b43-9140-7c4c42b3e3d6",
   "metadata": {},
   "outputs": [],
   "source": [
    "params={\n",
    "    'concept_id': ['C2120512202-NSIDC_ECS'],\n",
    "    #'temporal': '2021-10-17T00:00:00Z,2021-10-19T23:59:59Z',\n",
    "    'bounding_box': '-170,60,-140,70',\n",
    "    'page_size': 2000,\n",
    "    }"
   ]
  },
  {
   "cell_type": "code",
   "execution_count": 16,
   "id": "8766702a-322a-4d2f-a0c8-1705ff36b805",
   "metadata": {},
   "outputs": [],
   "source": [
    "def get_page_total(params):\n",
    "    hits = requests.get(url, \n",
    "                        params=params,\n",
    "                        headers={\n",
    "                            'Accept': 'application/json'\n",
    "                            }\n",
    "                       ).headers['CMR-Hits']\n",
    "    \n",
    "    print(f'Granules= {hits}') \n",
    "    pages = math.ceil(int(hits)/params['page_size'])\n",
    "    print(f'Pages= {pages}')\n",
    "    \n",
    "    return pages"
   ]
  },
  {
   "cell_type": "code",
   "execution_count": 17,
   "id": "a747e82c-d895-483a-9c99-fbff20a478c6",
   "metadata": {},
   "outputs": [
    {
     "name": "stdout",
     "output_type": "stream",
     "text": [
      "Granules= 4039\n",
      "Pages= 3\n",
      "CPU times: user 87.2 ms, sys: 12 ms, total: 99.2 ms\n",
      "Wall time: 3.69 s\n"
     ]
    },
    {
     "data": {
      "text/plain": [
       "3"
      ]
     },
     "execution_count": 17,
     "metadata": {},
     "output_type": "execute_result"
    }
   ],
   "source": [
    "%%time\n",
    "get_page_total(params)"
   ]
  },
  {
   "cell_type": "code",
   "execution_count": 18,
   "id": "da139944-553d-4e22-9374-8fa299b7eb8e",
   "metadata": {},
   "outputs": [],
   "source": [
    "def get_cmr_granules(params):\n",
    "    response = requests.get(\"https://cmr.earthdata.nasa.gov/search/granules\", \n",
    "                        params=params,\n",
    "                        headers={\n",
    "                            'Accept': 'application/json'\n",
    "                            }\n",
    "                       )\n",
    "    \n",
    "    \n",
    "    granules = response.json()['feed']['entry']\n",
    "    keys = ['producer_granule_id', 'time_start', 'time_end', 'polygons']\n",
    "    df = pd.DataFrame([{key: x[key] for key in keys} for x in granules])\n",
    "    return df"
   ]
  },
  {
   "cell_type": "code",
   "execution_count": 19,
   "id": "ca6d72b1-52f6-4e9f-ab11-f0ec5041d4c0",
   "metadata": {},
   "outputs": [
    {
     "name": "stdout",
     "output_type": "stream",
     "text": [
      "CPU times: user 291 ms, sys: 23.7 ms, total: 314 ms\n",
      "Wall time: 2.17 s\n"
     ]
    },
    {
     "data": {
      "text/html": [
       "<div>\n",
       "<style scoped>\n",
       "    .dataframe tbody tr th:only-of-type {\n",
       "        vertical-align: middle;\n",
       "    }\n",
       "\n",
       "    .dataframe tbody tr th {\n",
       "        vertical-align: top;\n",
       "    }\n",
       "\n",
       "    .dataframe thead th {\n",
       "        text-align: right;\n",
       "    }\n",
       "</style>\n",
       "<table border=\"1\" class=\"dataframe\">\n",
       "  <thead>\n",
       "    <tr style=\"text-align: right;\">\n",
       "      <th></th>\n",
       "      <th>producer_granule_id</th>\n",
       "      <th>time_start</th>\n",
       "      <th>time_end</th>\n",
       "      <th>polygons</th>\n",
       "    </tr>\n",
       "  </thead>\n",
       "  <tbody>\n",
       "    <tr>\n",
       "      <th>0</th>\n",
       "      <td>ATL03_20181014015337_02360103_005_01.h5</td>\n",
       "      <td>2018-10-14T01:53:36.912Z</td>\n",
       "      <td>2018-10-14T01:59:02.315Z</td>\n",
       "      <td>[[57.70233662448695 -158.02215135775847 76.195...</td>\n",
       "    </tr>\n",
       "    <tr>\n",
       "      <th>1</th>\n",
       "      <td>ATL03_20181014130413_02430105_005_01.h5</td>\n",
       "      <td>2018-10-14T13:04:12.567Z</td>\n",
       "      <td>2018-10-14T13:09:37.946Z</td>\n",
       "      <td>[[82.61181287249774 -125.59579916774838 64.252...</td>\n",
       "    </tr>\n",
       "    <tr>\n",
       "      <th>2</th>\n",
       "      <td>ATL03_20181014143830_02440105_005_01.h5</td>\n",
       "      <td>2018-10-14T14:38:29.879Z</td>\n",
       "      <td>2018-10-14T14:43:55.296Z</td>\n",
       "      <td>[[82.61181287249774 -149.2145298179909 64.2527...</td>\n",
       "    </tr>\n",
       "  </tbody>\n",
       "</table>\n",
       "</div>"
      ],
      "text/plain": [
       "                       producer_granule_id                time_start  \\\n",
       "0  ATL03_20181014015337_02360103_005_01.h5  2018-10-14T01:53:36.912Z   \n",
       "1  ATL03_20181014130413_02430105_005_01.h5  2018-10-14T13:04:12.567Z   \n",
       "2  ATL03_20181014143830_02440105_005_01.h5  2018-10-14T14:38:29.879Z   \n",
       "\n",
       "                   time_end                                           polygons  \n",
       "0  2018-10-14T01:59:02.315Z  [[57.70233662448695 -158.02215135775847 76.195...  \n",
       "1  2018-10-14T13:09:37.946Z  [[82.61181287249774 -125.59579916774838 64.252...  \n",
       "2  2018-10-14T14:43:55.296Z  [[82.61181287249774 -149.2145298179909 64.2527...  "
      ]
     },
     "execution_count": 19,
     "metadata": {},
     "output_type": "execute_result"
    }
   ],
   "source": [
    "%%time\n",
    "\n",
    "df = get_cmr_granules(params)\n",
    "df.head(3)"
   ]
  },
  {
   "cell_type": "markdown",
   "id": "046d0b9b-f6db-4260-b111-e692bb485172",
   "metadata": {},
   "source": [
    "## ASYNC"
   ]
  },
  {
   "cell_type": "code",
   "execution_count": 20,
   "id": "d4e79068-a8c2-47a5-86bb-2f935b3cbd4a",
   "metadata": {},
   "outputs": [],
   "source": [
    "params={\n",
    "    'concept_id': ['C2120512202-NSIDC_ECS'],\n",
    "    #'temporal': '2021-10-17T00:00:00Z,2021-10-19T23:59:59Z',\n",
    "    'bounding_box': '-170,60,-140,70',\n",
    "    'page_size': 2000,\n",
    "    }"
   ]
  },
  {
   "cell_type": "code",
   "execution_count": 21,
   "id": "fc0dd900-cbc8-4203-8c39-bbd44ac40368",
   "metadata": {},
   "outputs": [],
   "source": [
    "def get_cmr_pages_urls(params): \n",
    "    response = requests.get('https://cmr.earthdata.nasa.gov/search/granules',\n",
    "                       params=params,\n",
    "                       headers={\n",
    "                           'Accept': 'application/json'\n",
    "                       }\n",
    "                      )\n",
    "    hits = int(response.headers['CMR-Hits'])\n",
    "    n_pages = math.ceil(hits/page_size)\n",
    "    cmr_pages_urls = [f'{response.url}&page_num={x}'.replace('granules?', 'granules.json?') for x in list(range(1,n_pages+1))]\n",
    "    return cmr_pages_urls"
   ]
  },
  {
   "cell_type": "code",
   "execution_count": 22,
   "id": "9e96709b-54c9-4c3d-aef1-b995390432c2",
   "metadata": {},
   "outputs": [
    {
     "data": {
      "text/plain": [
       "['https://cmr.earthdata.nasa.gov/search/granules.json?concept_id=C2120512202-NSIDC_ECS&bounding_box=-170%2C60%2C-140%2C70&page_size=2000&page_num=1',\n",
       " 'https://cmr.earthdata.nasa.gov/search/granules.json?concept_id=C2120512202-NSIDC_ECS&bounding_box=-170%2C60%2C-140%2C70&page_size=2000&page_num=2',\n",
       " 'https://cmr.earthdata.nasa.gov/search/granules.json?concept_id=C2120512202-NSIDC_ECS&bounding_box=-170%2C60%2C-140%2C70&page_size=2000&page_num=3']"
      ]
     },
     "execution_count": 22,
     "metadata": {},
     "output_type": "execute_result"
    }
   ],
   "source": [
    "urls = get_cmr_pages_urls(params)\n",
    "urls"
   ]
  },
  {
   "cell_type": "code",
   "execution_count": 23,
   "id": "92c5e5aa-edd8-40b2-bdbc-341b82b7c93f",
   "metadata": {},
   "outputs": [],
   "source": [
    "results = []"
   ]
  },
  {
   "cell_type": "code",
   "execution_count": 24,
   "id": "0f9d4a86-9ae5-4a1e-b26b-60cbfff96b41",
   "metadata": {},
   "outputs": [],
   "source": [
    "def get_tasks(session):\n",
    "    tasks = []\n",
    "    for l in urls:\n",
    "        tasks.append(session.get(l))\n",
    "    return tasks"
   ]
  },
  {
   "cell_type": "code",
   "execution_count": 25,
   "id": "ab0a7a67-5940-48a8-9944-2183358eb377",
   "metadata": {},
   "outputs": [],
   "source": [
    "async def get_url():\n",
    "    async with aiohttp.ClientSession() as session:\n",
    "        tasks = get_tasks(session)\n",
    "        responses = await asyncio.gather(*tasks)\n",
    "        for response in responses:\n",
    "            res = await response.json()\n",
    "            #print(res)\n",
    "            granules = res['feed']['entry']\n",
    "            results.extend([{key: x[key] for key in keys} for x in granules])"
   ]
  },
  {
   "cell_type": "code",
   "execution_count": 26,
   "id": "d25f9310-7e4c-4137-acdb-609d6cadb08e",
   "metadata": {},
   "outputs": [
    {
     "data": {
      "text/plain": [
       "16.946277618408203"
      ]
     },
     "execution_count": 26,
     "metadata": {},
     "output_type": "execute_result"
    }
   ],
   "source": [
    "start = time.time() \n",
    "\n",
    "await get_url()\n",
    "\n",
    "end = time.time()\n",
    "\n",
    "total_time = end - start\n",
    "total_time"
   ]
  },
  {
   "cell_type": "code",
   "execution_count": 27,
   "id": "279dfedf-bfc7-477b-b057-0ff055a7ed6d",
   "metadata": {},
   "outputs": [
    {
     "data": {
      "text/plain": [
       "4039"
      ]
     },
     "execution_count": 27,
     "metadata": {},
     "output_type": "execute_result"
    }
   ],
   "source": [
    "len(results)"
   ]
  },
  {
   "cell_type": "code",
   "execution_count": 28,
   "id": "1bdb9a8d-9ad6-456b-a726-78b4fc1308a8",
   "metadata": {},
   "outputs": [
    {
     "name": "stdout",
     "output_type": "stream",
     "text": [
      "CPU times: user 5.15 ms, sys: 445 µs, total: 5.59 ms\n",
      "Wall time: 5.11 ms\n"
     ]
    },
    {
     "data": {
      "text/html": [
       "<div>\n",
       "<style scoped>\n",
       "    .dataframe tbody tr th:only-of-type {\n",
       "        vertical-align: middle;\n",
       "    }\n",
       "\n",
       "    .dataframe tbody tr th {\n",
       "        vertical-align: top;\n",
       "    }\n",
       "\n",
       "    .dataframe thead th {\n",
       "        text-align: right;\n",
       "    }\n",
       "</style>\n",
       "<table border=\"1\" class=\"dataframe\">\n",
       "  <thead>\n",
       "    <tr style=\"text-align: right;\">\n",
       "      <th></th>\n",
       "      <th>producer_granule_id</th>\n",
       "      <th>time_start</th>\n",
       "      <th>time_end</th>\n",
       "      <th>polygons</th>\n",
       "    </tr>\n",
       "  </thead>\n",
       "  <tbody>\n",
       "    <tr>\n",
       "      <th>0</th>\n",
       "      <td>ATL03_20181014015337_02360103_005_01.h5</td>\n",
       "      <td>2018-10-14T01:53:36.912Z</td>\n",
       "      <td>2018-10-14T01:59:02.315Z</td>\n",
       "      <td>[[57.70233662448695 -158.02215135775847 76.195...</td>\n",
       "    </tr>\n",
       "    <tr>\n",
       "      <th>1</th>\n",
       "      <td>ATL03_20181014130413_02430105_005_01.h5</td>\n",
       "      <td>2018-10-14T13:04:12.567Z</td>\n",
       "      <td>2018-10-14T13:09:37.946Z</td>\n",
       "      <td>[[82.61181287249774 -125.59579916774838 64.252...</td>\n",
       "    </tr>\n",
       "    <tr>\n",
       "      <th>2</th>\n",
       "      <td>ATL03_20181014143830_02440105_005_01.h5</td>\n",
       "      <td>2018-10-14T14:38:29.879Z</td>\n",
       "      <td>2018-10-14T14:43:55.296Z</td>\n",
       "      <td>[[82.61181287249774 -149.2145298179909 64.2527...</td>\n",
       "    </tr>\n",
       "  </tbody>\n",
       "</table>\n",
       "</div>"
      ],
      "text/plain": [
       "                       producer_granule_id                time_start  \\\n",
       "0  ATL03_20181014015337_02360103_005_01.h5  2018-10-14T01:53:36.912Z   \n",
       "1  ATL03_20181014130413_02430105_005_01.h5  2018-10-14T13:04:12.567Z   \n",
       "2  ATL03_20181014143830_02440105_005_01.h5  2018-10-14T14:38:29.879Z   \n",
       "\n",
       "                   time_end                                           polygons  \n",
       "0  2018-10-14T01:59:02.315Z  [[57.70233662448695 -158.02215135775847 76.195...  \n",
       "1  2018-10-14T13:09:37.946Z  [[82.61181287249774 -125.59579916774838 64.252...  \n",
       "2  2018-10-14T14:43:55.296Z  [[82.61181287249774 -149.2145298179909 64.2527...  "
      ]
     },
     "execution_count": 28,
     "metadata": {},
     "output_type": "execute_result"
    }
   ],
   "source": [
    "%%time \n",
    "\n",
    "df = pd.DataFrame(results)\n",
    "df.head(3)"
   ]
  },
  {
   "cell_type": "code",
   "execution_count": 29,
   "id": "a0ec4c40-aa7d-432b-81ab-688abe81b03d",
   "metadata": {},
   "outputs": [
    {
     "data": {
      "text/plain": [
       "0.9249539375305176"
      ]
     },
     "execution_count": 29,
     "metadata": {},
     "output_type": "execute_result"
    }
   ],
   "source": [
    "#%%time \n",
    "# non-blocking for some reason so %%time doesn work...\n",
    "\n",
    "start = time.time() \n",
    "\n",
    "# Add midpoint time, coerce to shapely geometry.\n",
    "# NOTE: make this faster? \n",
    "df['time_start'] = pd.to_datetime(df.time_start).dt.tz_localize(None)\n",
    "df['time_end'] = pd.to_datetime(df.time_end).dt.tz_localize(None)\n",
    "df['datetime'] = df.time_start + (df.time_end - df.time_start)/2\n",
    "df['geometry'] = df.polygons.apply(lambda x: polygons2shapely(x))\n",
    "gf = gpd.GeoDataFrame(df.drop(columns='polygons'), crs='EPSG:4326')\n",
    "\n",
    "\n",
    "end = time.time()\n",
    "total_time = end - start\n",
    "total_time"
   ]
  },
  {
   "cell_type": "code",
   "execution_count": 30,
   "id": "58d389ab-0c8e-4eae-9b15-49753fa1489f",
   "metadata": {},
   "outputs": [
    {
     "data": {
      "text/html": [
       "<div>\n",
       "<style scoped>\n",
       "    .dataframe tbody tr th:only-of-type {\n",
       "        vertical-align: middle;\n",
       "    }\n",
       "\n",
       "    .dataframe tbody tr th {\n",
       "        vertical-align: top;\n",
       "    }\n",
       "\n",
       "    .dataframe thead th {\n",
       "        text-align: right;\n",
       "    }\n",
       "</style>\n",
       "<table border=\"1\" class=\"dataframe\">\n",
       "  <thead>\n",
       "    <tr style=\"text-align: right;\">\n",
       "      <th></th>\n",
       "      <th>producer_granule_id</th>\n",
       "      <th>time_start</th>\n",
       "      <th>time_end</th>\n",
       "      <th>datetime</th>\n",
       "      <th>geometry</th>\n",
       "    </tr>\n",
       "  </thead>\n",
       "  <tbody>\n",
       "    <tr>\n",
       "      <th>0</th>\n",
       "      <td>ATL03_20181014015337_02360103_005_01.h5</td>\n",
       "      <td>2018-10-14 01:53:36.912</td>\n",
       "      <td>2018-10-14 01:59:02.315</td>\n",
       "      <td>2018-10-14 01:56:19.613500</td>\n",
       "      <td>POLYGON ((-158.02215 57.70234, -157.41701 57.7...</td>\n",
       "    </tr>\n",
       "    <tr>\n",
       "      <th>1</th>\n",
       "      <td>ATL03_20181014130413_02430105_005_01.h5</td>\n",
       "      <td>2018-10-14 13:04:12.567</td>\n",
       "      <td>2018-10-14 13:09:37.946</td>\n",
       "      <td>2018-10-14 13:06:55.256500</td>\n",
       "      <td>POLYGON ((-125.59580 82.61181, -128.03395 82.7...</td>\n",
       "    </tr>\n",
       "    <tr>\n",
       "      <th>2</th>\n",
       "      <td>ATL03_20181014143830_02440105_005_01.h5</td>\n",
       "      <td>2018-10-14 14:38:29.879</td>\n",
       "      <td>2018-10-14 14:43:55.296</td>\n",
       "      <td>2018-10-14 14:41:12.587500</td>\n",
       "      <td>POLYGON ((-149.21453 82.61181, -151.65268 82.7...</td>\n",
       "    </tr>\n",
       "    <tr>\n",
       "      <th>3</th>\n",
       "      <td>ATL03_20181015012758_02510103_005_01.h5</td>\n",
       "      <td>2018-10-15 01:27:57.020</td>\n",
       "      <td>2018-10-15 01:33:22.415</td>\n",
       "      <td>2018-10-15 01:30:39.717500</td>\n",
       "      <td>POLYGON ((-152.32414 57.76417, -151.71796 57.7...</td>\n",
       "    </tr>\n",
       "    <tr>\n",
       "      <th>4</th>\n",
       "      <td>ATL03_20181015141251_02590105_005_01.h5</td>\n",
       "      <td>2018-10-15 14:12:49.940</td>\n",
       "      <td>2018-10-15 14:18:15.349</td>\n",
       "      <td>2018-10-15 14:15:32.644500</td>\n",
       "      <td>POLYGON ((-143.50439 82.61181, -145.94254 82.7...</td>\n",
       "    </tr>\n",
       "  </tbody>\n",
       "</table>\n",
       "</div>"
      ],
      "text/plain": [
       "                       producer_granule_id              time_start  \\\n",
       "0  ATL03_20181014015337_02360103_005_01.h5 2018-10-14 01:53:36.912   \n",
       "1  ATL03_20181014130413_02430105_005_01.h5 2018-10-14 13:04:12.567   \n",
       "2  ATL03_20181014143830_02440105_005_01.h5 2018-10-14 14:38:29.879   \n",
       "3  ATL03_20181015012758_02510103_005_01.h5 2018-10-15 01:27:57.020   \n",
       "4  ATL03_20181015141251_02590105_005_01.h5 2018-10-15 14:12:49.940   \n",
       "\n",
       "                 time_end                   datetime  \\\n",
       "0 2018-10-14 01:59:02.315 2018-10-14 01:56:19.613500   \n",
       "1 2018-10-14 13:09:37.946 2018-10-14 13:06:55.256500   \n",
       "2 2018-10-14 14:43:55.296 2018-10-14 14:41:12.587500   \n",
       "3 2018-10-15 01:33:22.415 2018-10-15 01:30:39.717500   \n",
       "4 2018-10-15 14:18:15.349 2018-10-15 14:15:32.644500   \n",
       "\n",
       "                                            geometry  \n",
       "0  POLYGON ((-158.02215 57.70234, -157.41701 57.7...  \n",
       "1  POLYGON ((-125.59580 82.61181, -128.03395 82.7...  \n",
       "2  POLYGON ((-149.21453 82.61181, -151.65268 82.7...  \n",
       "3  POLYGON ((-152.32414 57.76417, -151.71796 57.7...  \n",
       "4  POLYGON ((-143.50439 82.61181, -145.94254 82.7...  "
      ]
     },
     "execution_count": 30,
     "metadata": {},
     "output_type": "execute_result"
    }
   ],
   "source": [
    "gf.head()"
   ]
  },
  {
   "cell_type": "code",
   "execution_count": 32,
   "id": "f7f7011e-1d47-4aeb-b95b-6a90c173589b",
   "metadata": {},
   "outputs": [
    {
     "data": {
      "text/plain": [
       "4039"
      ]
     },
     "execution_count": 32,
     "metadata": {},
     "output_type": "execute_result"
    }
   ],
   "source": [
    "len(gf)"
   ]
  },
  {
   "cell_type": "code",
   "execution_count": 33,
   "id": "23df37e4-c878-4d74-8d4f-982cb9dc74d7",
   "metadata": {},
   "outputs": [],
   "source": [
    "gf.to_file('IS2_Alaska.geojson', driver='GeoJSON')"
   ]
  },
  {
   "cell_type": "code",
   "execution_count": 34,
   "id": "992d60a8-3c52-4cee-b2c7-1314c18461fa",
   "metadata": {},
   "outputs": [],
   "source": [
    "gf.to_file('IS2_Alaska.gpkg', driver='GPKG')"
   ]
  },
  {
   "cell_type": "code",
   "execution_count": 35,
   "id": "7cbcf0b9-1715-4c5d-8bb2-45d650ab8255",
   "metadata": {},
   "outputs": [],
   "source": [
    "gf.to_parquet('IS2_Alaska.parquet', version='2.6')"
   ]
  },
  {
   "cell_type": "code",
   "execution_count": 36,
   "id": "7af331b2-cecf-41d4-8bbe-54cf72c5c8f7",
   "metadata": {},
   "outputs": [
    {
     "name": "stdout",
     "output_type": "stream",
     "text": [
      "-rw-r--r-- 1 jovyan users 2.4M Mar  8 22:40 IS2_Alaska.geojson\n",
      "-rw-r--r-- 1 jovyan users 1.5M Mar  8 22:40 IS2_Alaska.gpkg\n",
      "-rw-r--r-- 1 jovyan users 245K Mar  8 22:40 IS2_Alaska.parquet\n",
      "\n",
      "IS2I:\n",
      "total 4.0M\n",
      "-rw-r--r-- 1 jovyan users 2.4M Mar  8 22:21 IS2_Alaska.geojson\n",
      "-rw-r--r-- 1 jovyan users 1.5M Mar  8 22:22 IS2_Alaska.gpkg\n",
      "-rw-r--r-- 1 jovyan users 245K Mar  8 22:22 IS2_Alaska.parquet\n",
      "-rw-r--r-- 1 jovyan users 1.1K Mar  8 22:25 LICENSE\n",
      "-rw-r--r-- 1 jovyan users   26 Mar  8 22:25 README.md\n"
     ]
    }
   ],
   "source": [
    "!ls -lh IS2*"
   ]
  },
  {
   "cell_type": "code",
   "execution_count": 37,
   "id": "1571856c-7e35-4877-8af6-c9c50f6762cc",
   "metadata": {},
   "outputs": [],
   "source": [
    "test = gpd.read_file('IS2_Alaska.geojson')"
   ]
  },
  {
   "cell_type": "code",
   "execution_count": 38,
   "id": "3be85334-561c-4978-9922-66a404430ea2",
   "metadata": {},
   "outputs": [
    {
     "name": "stdout",
     "output_type": "stream",
     "text": [
      "<class 'geopandas.geodataframe.GeoDataFrame'>\n",
      "RangeIndex: 4039 entries, 0 to 4038\n",
      "Data columns (total 5 columns):\n",
      " #   Column               Non-Null Count  Dtype         \n",
      "---  ------               --------------  -----         \n",
      " 0   producer_granule_id  4039 non-null   object        \n",
      " 1   time_start           4039 non-null   datetime64[ns]\n",
      " 2   time_end             4039 non-null   datetime64[ns]\n",
      " 3   datetime             4039 non-null   datetime64[ns]\n",
      " 4   geometry             4039 non-null   geometry      \n",
      "dtypes: datetime64[ns](3), geometry(1), object(1)\n",
      "memory usage: 157.9+ KB\n"
     ]
    }
   ],
   "source": [
    "test.info()"
   ]
  },
  {
   "cell_type": "code",
   "execution_count": 39,
   "id": "f18c4441-2331-4ea6-9539-0b65b5641c8f",
   "metadata": {},
   "outputs": [
    {
     "data": {
      "text/html": [
       "<div>\n",
       "<style scoped>\n",
       "    .dataframe tbody tr th:only-of-type {\n",
       "        vertical-align: middle;\n",
       "    }\n",
       "\n",
       "    .dataframe tbody tr th {\n",
       "        vertical-align: top;\n",
       "    }\n",
       "\n",
       "    .dataframe thead th {\n",
       "        text-align: right;\n",
       "    }\n",
       "</style>\n",
       "<table border=\"1\" class=\"dataframe\">\n",
       "  <thead>\n",
       "    <tr style=\"text-align: right;\">\n",
       "      <th></th>\n",
       "      <th>producer_granule_id</th>\n",
       "      <th>time_start</th>\n",
       "      <th>time_end</th>\n",
       "      <th>datetime</th>\n",
       "      <th>geometry</th>\n",
       "    </tr>\n",
       "  </thead>\n",
       "  <tbody>\n",
       "    <tr>\n",
       "      <th>0</th>\n",
       "      <td>ATL03_20181014015337_02360103_005_01.h5</td>\n",
       "      <td>2018-10-14 01:53:36.912</td>\n",
       "      <td>2018-10-14 01:59:02.315</td>\n",
       "      <td>2018-10-14 01:56:19.614</td>\n",
       "      <td>POLYGON ((-158.02215 57.70234, -164.65924 76.1...</td>\n",
       "    </tr>\n",
       "    <tr>\n",
       "      <th>1</th>\n",
       "      <td>ATL03_20181014130413_02430105_005_01.h5</td>\n",
       "      <td>2018-10-14 13:04:12.567</td>\n",
       "      <td>2018-10-14 13:09:37.946</td>\n",
       "      <td>2018-10-14 13:06:55.257</td>\n",
       "      <td>POLYGON ((-125.59580 82.61181, -139.25558 64.2...</td>\n",
       "    </tr>\n",
       "    <tr>\n",
       "      <th>2</th>\n",
       "      <td>ATL03_20181014143830_02440105_005_01.h5</td>\n",
       "      <td>2018-10-14 14:38:29.879</td>\n",
       "      <td>2018-10-14 14:43:55.296</td>\n",
       "      <td>2018-10-14 14:41:12.588</td>\n",
       "      <td>POLYGON ((-149.21453 82.61181, -162.87431 64.2...</td>\n",
       "    </tr>\n",
       "  </tbody>\n",
       "</table>\n",
       "</div>"
      ],
      "text/plain": [
       "                       producer_granule_id              time_start  \\\n",
       "0  ATL03_20181014015337_02360103_005_01.h5 2018-10-14 01:53:36.912   \n",
       "1  ATL03_20181014130413_02430105_005_01.h5 2018-10-14 13:04:12.567   \n",
       "2  ATL03_20181014143830_02440105_005_01.h5 2018-10-14 14:38:29.879   \n",
       "\n",
       "                 time_end                datetime  \\\n",
       "0 2018-10-14 01:59:02.315 2018-10-14 01:56:19.614   \n",
       "1 2018-10-14 13:09:37.946 2018-10-14 13:06:55.257   \n",
       "2 2018-10-14 14:43:55.296 2018-10-14 14:41:12.588   \n",
       "\n",
       "                                            geometry  \n",
       "0  POLYGON ((-158.02215 57.70234, -164.65924 76.1...  \n",
       "1  POLYGON ((-125.59580 82.61181, -139.25558 64.2...  \n",
       "2  POLYGON ((-149.21453 82.61181, -162.87431 64.2...  "
      ]
     },
     "execution_count": 39,
     "metadata": {},
     "output_type": "execute_result"
    }
   ],
   "source": [
    "gf = gpd.read_file('https://github.com/scottyhq/IS2I/raw/main/IS2_Alaska.geojson')\n",
    "gf.head(3)"
   ]
  },
  {
   "cell_type": "code",
   "execution_count": null,
   "id": "d465586b-806f-40b0-85f7-57d1e8772b51",
   "metadata": {},
   "outputs": [],
   "source": []
  }
 ],
 "metadata": {
  "kernelspec": {
   "display_name": "Python [conda env:.local-odc]",
   "language": "python",
   "name": "conda-env-.local-odc-py"
  },
  "language_info": {
   "codemirror_mode": {
    "name": "ipython",
    "version": 3
   },
   "file_extension": ".py",
   "mimetype": "text/x-python",
   "name": "python",
   "nbconvert_exporter": "python",
   "pygments_lexer": "ipython3",
   "version": "3.10.9"
  }
 },
 "nbformat": 4,
 "nbformat_minor": 5
}
